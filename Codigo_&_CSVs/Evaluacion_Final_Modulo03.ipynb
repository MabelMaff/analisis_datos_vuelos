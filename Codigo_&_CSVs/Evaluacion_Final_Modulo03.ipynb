{
 "cells": [
  {
   "cell_type": "markdown",
   "metadata": {},
   "source": [
    "⬛⬛⬛⬛⬛⬛⬛⬛⬛⬛⬛⬛⬛⬛⬛⬛⬛⬛⬛⬛⬛⬛⬛⬛⬛⬛⬛⬛⬛⬛⬛⬛⬛⬛⬛⬛⬛⬛⬛⬛⬛⬛⬛"
   ]
  },
  {
   "cell_type": "markdown",
   "metadata": {},
   "source": [
    "# Ejercicio Final Módulo 3 🐱‍🚀"
   ]
  },
  {
   "cell_type": "markdown",
   "metadata": {},
   "source": [
    "⬛⬛⬛⬛⬛⬛⬛⬛⬛⬛⬛⬛⬛⬛⬛⬛⬛⬛⬛⬛⬛⬛⬛⬛⬛⬛⬛⬛⬛⬛⬛⬛⬛⬛⬛⬛⬛⬛⬛⬛⬛⬛⬛"
   ]
  },
  {
   "cell_type": "code",
   "execution_count": 55,
   "metadata": {},
   "outputs": [],
   "source": [
    "# Importo pandas para trabajar con los datos\n",
    "import pandas as pd  \n",
    "\n",
    "# Cargo los datos de los archivos CSV con los que vamos a trabajar\n",
    "flight_activity = pd.read_csv('Customer Flight Activity.csv')  \n",
    "loyalty_history = pd.read_csv('Customer Loyalty History.csv')  \n",
    "\n",
    "# Para ver todas las columnas del DataFrame\n",
    "pd.set_option('display.max_columns', None)"
   ]
  },
  {
   "cell_type": "markdown",
   "metadata": {},
   "source": [
    "_ _ _"
   ]
  },
  {
   "cell_type": "markdown",
   "metadata": {},
   "source": [
    "⬛⬛⬛⬛⬛⬛⬛⬛⬛⬛⬛⬛⬛⬛⬛⬛⬛⬛⬛⬛⬛⬛⬛⬛⬛⬛⬛⬛⬛⬛⬛⬛⬛⬛⬛⬛⬛⬛⬛⬛⬛⬛⬛"
   ]
  },
  {
   "cell_type": "markdown",
   "metadata": {},
   "source": [
    "## Exploración de Datos 👩‍💻"
   ]
  },
  {
   "cell_type": "markdown",
   "metadata": {},
   "source": [
    "⬛⬛⬛⬛⬛⬛⬛⬛⬛⬛⬛⬛⬛⬛⬛⬛⬛⬛⬛⬛⬛⬛⬛⬛⬛⬛⬛⬛⬛⬛⬛⬛⬛⬛⬛⬛⬛⬛⬛⬛⬛⬛⬛"
   ]
  },
  {
   "cell_type": "markdown",
   "metadata": {},
   "source": [
    "Realizo una exploración inicial de los datos para identificar posibles problemas, como valores nulos, atípicos o datos faltantes en las columnas relevantes. Utilizo funciones de Pandas para obtener información sobre la estructura de los datos, la presencia de valores nulos y estadísticas básicas de las columnas involucradas."
   ]
  },
  {
   "cell_type": "code",
   "execution_count": 56,
   "metadata": {},
   "outputs": [],
   "source": [
    "# Hago copias de los DataFrames originales para trabajar sobre ellas\n",
    "data1 = flight_activity.copy()\n",
    "data2 = loyalty_history.copy()"
   ]
  },
  {
   "cell_type": "code",
   "execution_count": 57,
   "metadata": {},
   "outputs": [
    {
     "name": "stdout",
     "output_type": "stream",
     "text": [
      "Información del conjunto de datos 'Customer Flight Activity'\n",
      "<class 'pandas.core.frame.DataFrame'>\n",
      "RangeIndex: 405624 entries, 0 to 405623\n",
      "Data columns (total 10 columns):\n",
      " #   Column                       Non-Null Count   Dtype  \n",
      "---  ------                       --------------   -----  \n",
      " 0   Loyalty Number               405624 non-null  int64  \n",
      " 1   Year                         405624 non-null  int64  \n",
      " 2   Month                        405624 non-null  int64  \n",
      " 3   Flights Booked               405624 non-null  int64  \n",
      " 4   Flights with Companions      405624 non-null  int64  \n",
      " 5   Total Flights                405624 non-null  int64  \n",
      " 6   Distance                     405624 non-null  int64  \n",
      " 7   Points Accumulated           405624 non-null  float64\n",
      " 8   Points Redeemed              405624 non-null  int64  \n",
      " 9   Dollar Cost Points Redeemed  405624 non-null  int64  \n",
      "dtypes: float64(1), int64(9)\n",
      "memory usage: 30.9 MB\n"
     ]
    }
   ],
   "source": [
    "print(\"Información del conjunto de datos 'Customer Flight Activity'\")\n",
    "# Veo la estructura y tipos de valores en el conjunto de datos de 'Customer Flight Activity'\n",
    "data1.info()"
   ]
  },
  {
   "cell_type": "code",
   "execution_count": 58,
   "metadata": {},
   "outputs": [
    {
     "data": {
      "text/plain": [
       "(405624, 10)"
      ]
     },
     "execution_count": 58,
     "metadata": {},
     "output_type": "execute_result"
    }
   ],
   "source": [
    "# Cantidad de columnas y filas en 'flight_activity'\n",
    "data1.shape"
   ]
  },
  {
   "cell_type": "code",
   "execution_count": 59,
   "metadata": {},
   "outputs": [
    {
     "name": "stdout",
     "output_type": "stream",
     "text": [
      "Información del conjunto de datos 'Customer Loyalty History'\n",
      "<class 'pandas.core.frame.DataFrame'>\n",
      "RangeIndex: 16737 entries, 0 to 16736\n",
      "Data columns (total 16 columns):\n",
      " #   Column              Non-Null Count  Dtype  \n",
      "---  ------              --------------  -----  \n",
      " 0   Loyalty Number      16737 non-null  int64  \n",
      " 1   Country             16737 non-null  object \n",
      " 2   Province            16737 non-null  object \n",
      " 3   City                16737 non-null  object \n",
      " 4   Postal Code         16737 non-null  object \n",
      " 5   Gender              16737 non-null  object \n",
      " 6   Education           16737 non-null  object \n",
      " 7   Salary              12499 non-null  float64\n",
      " 8   Marital Status      16737 non-null  object \n",
      " 9   Loyalty Card        16737 non-null  object \n",
      " 10  CLV                 16737 non-null  float64\n",
      " 11  Enrollment Type     16737 non-null  object \n",
      " 12  Enrollment Year     16737 non-null  int64  \n",
      " 13  Enrollment Month    16737 non-null  int64  \n",
      " 14  Cancellation Year   2067 non-null   float64\n",
      " 15  Cancellation Month  2067 non-null   float64\n",
      "dtypes: float64(4), int64(3), object(9)\n",
      "memory usage: 2.0+ MB\n"
     ]
    }
   ],
   "source": [
    "print(\"Información del conjunto de datos 'Customer Loyalty History'\")\n",
    "# Veo la estructura y tipos de valores en el conjunto de datos de 'Customer Loyalty History'\n",
    "data2.info()"
   ]
  },
  {
   "cell_type": "code",
   "execution_count": 60,
   "metadata": {},
   "outputs": [
    {
     "data": {
      "text/plain": [
       "(16737, 16)"
      ]
     },
     "execution_count": 60,
     "metadata": {},
     "output_type": "execute_result"
    }
   ],
   "source": [
    "# Cantidad de columnas y filas en 'loyalty_history'\n",
    "data2.shape"
   ]
  },
  {
   "cell_type": "code",
   "execution_count": 61,
   "metadata": {},
   "outputs": [
    {
     "name": "stdout",
     "output_type": "stream",
     "text": [
      "Estadísticas descriptivas de 'Customer Flight Activity'\n"
     ]
    },
    {
     "data": {
      "text/html": [
       "<div>\n",
       "<style scoped>\n",
       "    .dataframe tbody tr th:only-of-type {\n",
       "        vertical-align: middle;\n",
       "    }\n",
       "\n",
       "    .dataframe tbody tr th {\n",
       "        vertical-align: top;\n",
       "    }\n",
       "\n",
       "    .dataframe thead th {\n",
       "        text-align: right;\n",
       "    }\n",
       "</style>\n",
       "<table border=\"1\" class=\"dataframe\">\n",
       "  <thead>\n",
       "    <tr style=\"text-align: right;\">\n",
       "      <th></th>\n",
       "      <th>Loyalty Number</th>\n",
       "      <th>Year</th>\n",
       "      <th>Month</th>\n",
       "      <th>Flights Booked</th>\n",
       "      <th>Flights with Companions</th>\n",
       "      <th>Total Flights</th>\n",
       "      <th>Distance</th>\n",
       "      <th>Points Accumulated</th>\n",
       "      <th>Points Redeemed</th>\n",
       "      <th>Dollar Cost Points Redeemed</th>\n",
       "    </tr>\n",
       "  </thead>\n",
       "  <tbody>\n",
       "    <tr>\n",
       "      <th>count</th>\n",
       "      <td>405624.000000</td>\n",
       "      <td>405624.000000</td>\n",
       "      <td>405624.000000</td>\n",
       "      <td>405624.000000</td>\n",
       "      <td>405624.000000</td>\n",
       "      <td>405624.000000</td>\n",
       "      <td>405624.000000</td>\n",
       "      <td>405624.000000</td>\n",
       "      <td>405624.000000</td>\n",
       "      <td>405624.000000</td>\n",
       "    </tr>\n",
       "    <tr>\n",
       "      <th>mean</th>\n",
       "      <td>550037.873084</td>\n",
       "      <td>2017.500000</td>\n",
       "      <td>6.500000</td>\n",
       "      <td>4.115052</td>\n",
       "      <td>1.031805</td>\n",
       "      <td>5.146858</td>\n",
       "      <td>1208.880059</td>\n",
       "      <td>123.692721</td>\n",
       "      <td>30.696872</td>\n",
       "      <td>2.484503</td>\n",
       "    </tr>\n",
       "    <tr>\n",
       "      <th>std</th>\n",
       "      <td>258935.286969</td>\n",
       "      <td>0.500001</td>\n",
       "      <td>3.452057</td>\n",
       "      <td>5.225518</td>\n",
       "      <td>2.076869</td>\n",
       "      <td>6.521227</td>\n",
       "      <td>1433.155320</td>\n",
       "      <td>146.599831</td>\n",
       "      <td>125.486049</td>\n",
       "      <td>10.150038</td>\n",
       "    </tr>\n",
       "    <tr>\n",
       "      <th>min</th>\n",
       "      <td>100018.000000</td>\n",
       "      <td>2017.000000</td>\n",
       "      <td>1.000000</td>\n",
       "      <td>0.000000</td>\n",
       "      <td>0.000000</td>\n",
       "      <td>0.000000</td>\n",
       "      <td>0.000000</td>\n",
       "      <td>0.000000</td>\n",
       "      <td>0.000000</td>\n",
       "      <td>0.000000</td>\n",
       "    </tr>\n",
       "    <tr>\n",
       "      <th>25%</th>\n",
       "      <td>326961.000000</td>\n",
       "      <td>2017.000000</td>\n",
       "      <td>3.750000</td>\n",
       "      <td>0.000000</td>\n",
       "      <td>0.000000</td>\n",
       "      <td>0.000000</td>\n",
       "      <td>0.000000</td>\n",
       "      <td>0.000000</td>\n",
       "      <td>0.000000</td>\n",
       "      <td>0.000000</td>\n",
       "    </tr>\n",
       "    <tr>\n",
       "      <th>50%</th>\n",
       "      <td>550834.000000</td>\n",
       "      <td>2017.500000</td>\n",
       "      <td>6.500000</td>\n",
       "      <td>1.000000</td>\n",
       "      <td>0.000000</td>\n",
       "      <td>1.000000</td>\n",
       "      <td>488.000000</td>\n",
       "      <td>50.000000</td>\n",
       "      <td>0.000000</td>\n",
       "      <td>0.000000</td>\n",
       "    </tr>\n",
       "    <tr>\n",
       "      <th>75%</th>\n",
       "      <td>772194.000000</td>\n",
       "      <td>2018.000000</td>\n",
       "      <td>9.250000</td>\n",
       "      <td>8.000000</td>\n",
       "      <td>1.000000</td>\n",
       "      <td>10.000000</td>\n",
       "      <td>2336.000000</td>\n",
       "      <td>239.000000</td>\n",
       "      <td>0.000000</td>\n",
       "      <td>0.000000</td>\n",
       "    </tr>\n",
       "    <tr>\n",
       "      <th>max</th>\n",
       "      <td>999986.000000</td>\n",
       "      <td>2018.000000</td>\n",
       "      <td>12.000000</td>\n",
       "      <td>21.000000</td>\n",
       "      <td>11.000000</td>\n",
       "      <td>32.000000</td>\n",
       "      <td>6293.000000</td>\n",
       "      <td>676.500000</td>\n",
       "      <td>876.000000</td>\n",
       "      <td>71.000000</td>\n",
       "    </tr>\n",
       "  </tbody>\n",
       "</table>\n",
       "</div>"
      ],
      "text/plain": [
       "       Loyalty Number           Year          Month  Flights Booked  \\\n",
       "count   405624.000000  405624.000000  405624.000000   405624.000000   \n",
       "mean    550037.873084    2017.500000       6.500000        4.115052   \n",
       "std     258935.286969       0.500001       3.452057        5.225518   \n",
       "min     100018.000000    2017.000000       1.000000        0.000000   \n",
       "25%     326961.000000    2017.000000       3.750000        0.000000   \n",
       "50%     550834.000000    2017.500000       6.500000        1.000000   \n",
       "75%     772194.000000    2018.000000       9.250000        8.000000   \n",
       "max     999986.000000    2018.000000      12.000000       21.000000   \n",
       "\n",
       "       Flights with Companions  Total Flights       Distance  \\\n",
       "count            405624.000000  405624.000000  405624.000000   \n",
       "mean                  1.031805       5.146858    1208.880059   \n",
       "std                   2.076869       6.521227    1433.155320   \n",
       "min                   0.000000       0.000000       0.000000   \n",
       "25%                   0.000000       0.000000       0.000000   \n",
       "50%                   0.000000       1.000000     488.000000   \n",
       "75%                   1.000000      10.000000    2336.000000   \n",
       "max                  11.000000      32.000000    6293.000000   \n",
       "\n",
       "       Points Accumulated  Points Redeemed  Dollar Cost Points Redeemed  \n",
       "count       405624.000000    405624.000000                405624.000000  \n",
       "mean           123.692721        30.696872                     2.484503  \n",
       "std            146.599831       125.486049                    10.150038  \n",
       "min              0.000000         0.000000                     0.000000  \n",
       "25%              0.000000         0.000000                     0.000000  \n",
       "50%             50.000000         0.000000                     0.000000  \n",
       "75%            239.000000         0.000000                     0.000000  \n",
       "max            676.500000       876.000000                    71.000000  "
      ]
     },
     "execution_count": 61,
     "metadata": {},
     "output_type": "execute_result"
    }
   ],
   "source": [
    "# Muestro estadísticas descriptivas básicas de 'Customer Flight Activity'\n",
    "print(\"Estadísticas descriptivas de 'Customer Flight Activity'\")\n",
    "data1.describe()"
   ]
  },
  {
   "cell_type": "code",
   "execution_count": 62,
   "metadata": {},
   "outputs": [
    {
     "name": "stdout",
     "output_type": "stream",
     "text": [
      "Estadísticas descriptivas de 'Customer Loyalty History'\n"
     ]
    },
    {
     "data": {
      "text/html": [
       "<div>\n",
       "<style scoped>\n",
       "    .dataframe tbody tr th:only-of-type {\n",
       "        vertical-align: middle;\n",
       "    }\n",
       "\n",
       "    .dataframe tbody tr th {\n",
       "        vertical-align: top;\n",
       "    }\n",
       "\n",
       "    .dataframe thead th {\n",
       "        text-align: right;\n",
       "    }\n",
       "</style>\n",
       "<table border=\"1\" class=\"dataframe\">\n",
       "  <thead>\n",
       "    <tr style=\"text-align: right;\">\n",
       "      <th></th>\n",
       "      <th>Loyalty Number</th>\n",
       "      <th>Salary</th>\n",
       "      <th>CLV</th>\n",
       "      <th>Enrollment Year</th>\n",
       "      <th>Enrollment Month</th>\n",
       "      <th>Cancellation Year</th>\n",
       "      <th>Cancellation Month</th>\n",
       "    </tr>\n",
       "  </thead>\n",
       "  <tbody>\n",
       "    <tr>\n",
       "      <th>count</th>\n",
       "      <td>16737.000000</td>\n",
       "      <td>12499.000000</td>\n",
       "      <td>16737.000000</td>\n",
       "      <td>16737.000000</td>\n",
       "      <td>16737.000000</td>\n",
       "      <td>2067.000000</td>\n",
       "      <td>2067.000000</td>\n",
       "    </tr>\n",
       "    <tr>\n",
       "      <th>mean</th>\n",
       "      <td>549735.880445</td>\n",
       "      <td>79245.609409</td>\n",
       "      <td>7988.896536</td>\n",
       "      <td>2015.253211</td>\n",
       "      <td>6.669116</td>\n",
       "      <td>2016.503145</td>\n",
       "      <td>6.962748</td>\n",
       "    </tr>\n",
       "    <tr>\n",
       "      <th>std</th>\n",
       "      <td>258912.132453</td>\n",
       "      <td>35008.297285</td>\n",
       "      <td>6860.982280</td>\n",
       "      <td>1.979111</td>\n",
       "      <td>3.398958</td>\n",
       "      <td>1.380743</td>\n",
       "      <td>3.455297</td>\n",
       "    </tr>\n",
       "    <tr>\n",
       "      <th>min</th>\n",
       "      <td>100018.000000</td>\n",
       "      <td>-58486.000000</td>\n",
       "      <td>1898.010000</td>\n",
       "      <td>2012.000000</td>\n",
       "      <td>1.000000</td>\n",
       "      <td>2013.000000</td>\n",
       "      <td>1.000000</td>\n",
       "    </tr>\n",
       "    <tr>\n",
       "      <th>25%</th>\n",
       "      <td>326603.000000</td>\n",
       "      <td>59246.500000</td>\n",
       "      <td>3980.840000</td>\n",
       "      <td>2014.000000</td>\n",
       "      <td>4.000000</td>\n",
       "      <td>2016.000000</td>\n",
       "      <td>4.000000</td>\n",
       "    </tr>\n",
       "    <tr>\n",
       "      <th>50%</th>\n",
       "      <td>550434.000000</td>\n",
       "      <td>73455.000000</td>\n",
       "      <td>5780.180000</td>\n",
       "      <td>2015.000000</td>\n",
       "      <td>7.000000</td>\n",
       "      <td>2017.000000</td>\n",
       "      <td>7.000000</td>\n",
       "    </tr>\n",
       "    <tr>\n",
       "      <th>75%</th>\n",
       "      <td>772019.000000</td>\n",
       "      <td>88517.500000</td>\n",
       "      <td>8940.580000</td>\n",
       "      <td>2017.000000</td>\n",
       "      <td>10.000000</td>\n",
       "      <td>2018.000000</td>\n",
       "      <td>10.000000</td>\n",
       "    </tr>\n",
       "    <tr>\n",
       "      <th>max</th>\n",
       "      <td>999986.000000</td>\n",
       "      <td>407228.000000</td>\n",
       "      <td>83325.380000</td>\n",
       "      <td>2018.000000</td>\n",
       "      <td>12.000000</td>\n",
       "      <td>2018.000000</td>\n",
       "      <td>12.000000</td>\n",
       "    </tr>\n",
       "  </tbody>\n",
       "</table>\n",
       "</div>"
      ],
      "text/plain": [
       "       Loyalty Number         Salary           CLV  Enrollment Year  \\\n",
       "count    16737.000000   12499.000000  16737.000000     16737.000000   \n",
       "mean    549735.880445   79245.609409   7988.896536      2015.253211   \n",
       "std     258912.132453   35008.297285   6860.982280         1.979111   \n",
       "min     100018.000000  -58486.000000   1898.010000      2012.000000   \n",
       "25%     326603.000000   59246.500000   3980.840000      2014.000000   \n",
       "50%     550434.000000   73455.000000   5780.180000      2015.000000   \n",
       "75%     772019.000000   88517.500000   8940.580000      2017.000000   \n",
       "max     999986.000000  407228.000000  83325.380000      2018.000000   \n",
       "\n",
       "       Enrollment Month  Cancellation Year  Cancellation Month  \n",
       "count      16737.000000        2067.000000         2067.000000  \n",
       "mean           6.669116        2016.503145            6.962748  \n",
       "std            3.398958           1.380743            3.455297  \n",
       "min            1.000000        2013.000000            1.000000  \n",
       "25%            4.000000        2016.000000            4.000000  \n",
       "50%            7.000000        2017.000000            7.000000  \n",
       "75%           10.000000        2018.000000           10.000000  \n",
       "max           12.000000        2018.000000           12.000000  "
      ]
     },
     "execution_count": 62,
     "metadata": {},
     "output_type": "execute_result"
    }
   ],
   "source": [
    "# Muestro estadísticas descriptivas básicas de 'Customer Loyalty History'\n",
    "print(\"Estadísticas descriptivas de 'Customer Loyalty History'\")\n",
    "data2.describe()"
   ]
  },
  {
   "cell_type": "markdown",
   "metadata": {},
   "source": [
    "_ _ _"
   ]
  },
  {
   "cell_type": "markdown",
   "metadata": {},
   "source": [
    "⬛⬛⬛⬛⬛⬛⬛⬛⬛⬛⬛⬛⬛⬛⬛⬛⬛⬛⬛⬛⬛⬛⬛⬛⬛⬛⬛⬛⬛⬛⬛⬛⬛⬛⬛⬛⬛⬛⬛⬛⬛⬛⬛"
   ]
  },
  {
   "cell_type": "markdown",
   "metadata": {},
   "source": [
    "## Limpieza de Datos 👁‍🗨"
   ]
  },
  {
   "cell_type": "markdown",
   "metadata": {},
   "source": [
    "⬛⬛⬛⬛⬛⬛⬛⬛⬛⬛⬛⬛⬛⬛⬛⬛⬛⬛⬛⬛⬛⬛⬛⬛⬛⬛⬛⬛⬛⬛⬛⬛⬛⬛⬛⬛⬛⬛⬛⬛⬛⬛⬛"
   ]
  },
  {
   "cell_type": "markdown",
   "metadata": {},
   "source": [
    "- Quito Duplicados"
   ]
  },
  {
   "cell_type": "code",
   "execution_count": 63,
   "metadata": {},
   "outputs": [
    {
     "name": "stdout",
     "output_type": "stream",
     "text": [
      "Número de filas duplicadas: 1864\n"
     ]
    }
   ],
   "source": [
    "# Verifico si hay filas duplicadas en el DataFrame 'flight_activity'\n",
    "duplicates_flight = data1.duplicated().sum()\n",
    "\n",
    "# Imprimo las filas duplicadas\n",
    "print(f\"Número de filas duplicadas: {duplicates_flight}\")\n",
    "\n",
    "# Lo que obtenemos indica que sí hay duplicados en las columna de este DataFrame"
   ]
  },
  {
   "cell_type": "code",
   "execution_count": 64,
   "metadata": {},
   "outputs": [
    {
     "name": "stdout",
     "output_type": "stream",
     "text": [
      "Número de filas duplicadas después de la limpieza: 0\n"
     ]
    }
   ],
   "source": [
    "# Elimino las filas duplicadas en el DataFrame 'flight_activity'\n",
    "data1 = data1.drop_duplicates()\n",
    "\n",
    "# Verifico si se eliminaron los duplicados\n",
    "print(f\"Número de filas duplicadas después de la limpieza: {data1.duplicated().sum()}\")\n",
    "\n",
    "# Lo que obtenemos verifica que ya no hay duplicados en las columna de este DataFrame"
   ]
  },
  {
   "cell_type": "code",
   "execution_count": 65,
   "metadata": {},
   "outputs": [
    {
     "name": "stdout",
     "output_type": "stream",
     "text": [
      "Número de filas duplicadas: 0\n"
     ]
    }
   ],
   "source": [
    "# Verifico si hay filas duplicadas en el DataFrame 'loyalty_history'\n",
    "duplicates_loyalty = data2.duplicated().sum()\n",
    "\n",
    "# Imprimo las filas duplicadas\n",
    "print(f\"Número de filas duplicadas: {duplicates_loyalty}\")\n",
    "\n",
    "# Lo que obtenemos indica que no hay duplicados en ninguna columna de este DataFrame\n",
    "\n"
   ]
  },
  {
   "cell_type": "markdown",
   "metadata": {},
   "source": [
    "_ _ _"
   ]
  },
  {
   "cell_type": "markdown",
   "metadata": {},
   "source": [
    "- Quito y/o Relleno Nulos"
   ]
  },
  {
   "cell_type": "code",
   "execution_count": 66,
   "metadata": {},
   "outputs": [
    {
     "data": {
      "text/plain": [
       "Loyalty Number                 0\n",
       "Year                           0\n",
       "Month                          0\n",
       "Flights Booked                 0\n",
       "Flights with Companions        0\n",
       "Total Flights                  0\n",
       "Distance                       0\n",
       "Points Accumulated             0\n",
       "Points Redeemed                0\n",
       "Dollar Cost Points Redeemed    0\n",
       "dtype: int64"
      ]
     },
     "execution_count": 66,
     "metadata": {},
     "output_type": "execute_result"
    }
   ],
   "source": [
    "# Verifico los valores únicos en el DataFrame 'flight_activity'\n",
    "nulls_flight = data1.isnull().sum()\n",
    "\n",
    "# Imprimo los valores nulos\n",
    "nulls_flight\n",
    "\n",
    "# Lo que obtenemos indica que no hay nulos en ninguna columna de este DataFrame"
   ]
  },
  {
   "cell_type": "code",
   "execution_count": 67,
   "metadata": {},
   "outputs": [
    {
     "data": {
      "text/plain": [
       "Loyalty Number            0\n",
       "Country                   0\n",
       "Province                  0\n",
       "City                      0\n",
       "Postal Code               0\n",
       "Gender                    0\n",
       "Education                 0\n",
       "Salary                 4238\n",
       "Marital Status            0\n",
       "Loyalty Card              0\n",
       "CLV                       0\n",
       "Enrollment Type           0\n",
       "Enrollment Year           0\n",
       "Enrollment Month          0\n",
       "Cancellation Year     14670\n",
       "Cancellation Month    14670\n",
       "dtype: int64"
      ]
     },
     "execution_count": 67,
     "metadata": {},
     "output_type": "execute_result"
    }
   ],
   "source": [
    "# Verifico los valores únicos en el DataFrame 'loyalty_history'\n",
    "nulls_loyalty = data2.isnull().sum()\n",
    "\n",
    "# Imprimo los valores nulos\n",
    "nulls_loyalty\n",
    "\n",
    "# Lo que obtenemos indica que sí hay nulos en alguna columna de este DataFrame"
   ]
  },
  {
   "cell_type": "code",
   "execution_count": 68,
   "metadata": {},
   "outputs": [
    {
     "data": {
      "text/plain": [
       "0         83236.0\n",
       "1             NaN\n",
       "2             NaN\n",
       "3             NaN\n",
       "4        103495.0\n",
       "           ...   \n",
       "16732         NaN\n",
       "16733     89210.0\n",
       "16734         NaN\n",
       "16735    -57297.0\n",
       "16736     75049.0\n",
       "Name: Salary, Length: 16737, dtype: float64"
      ]
     },
     "execution_count": 68,
     "metadata": {},
     "output_type": "execute_result"
    }
   ],
   "source": [
    "# Selecciono y muestro la columna 'Salary' del DataFrame\n",
    "salary_column = data2['Salary']\n",
    "salary_column"
   ]
  },
  {
   "cell_type": "code",
   "execution_count": 69,
   "metadata": {},
   "outputs": [
    {
     "data": {
      "text/plain": [
       "0           NaN\n",
       "1           NaN\n",
       "2        2018.0\n",
       "3           NaN\n",
       "4           NaN\n",
       "          ...  \n",
       "16732       NaN\n",
       "16733       NaN\n",
       "16734       NaN\n",
       "16735       NaN\n",
       "16736    2016.0\n",
       "Name: Cancellation Year, Length: 16737, dtype: float64"
      ]
     },
     "execution_count": 69,
     "metadata": {},
     "output_type": "execute_result"
    }
   ],
   "source": [
    "# Selecciono y muestro la columna 'Cancellation Year' del DataFrame\n",
    "cancellation_year_column = data2['Cancellation Year']\n",
    "cancellation_year_column"
   ]
  },
  {
   "cell_type": "code",
   "execution_count": 70,
   "metadata": {},
   "outputs": [
    {
     "data": {
      "text/plain": [
       "0        NaN\n",
       "1        NaN\n",
       "2        1.0\n",
       "3        NaN\n",
       "4        NaN\n",
       "        ... \n",
       "16732    NaN\n",
       "16733    NaN\n",
       "16734    NaN\n",
       "16735    NaN\n",
       "16736    8.0\n",
       "Name: Cancellation Month, Length: 16737, dtype: float64"
      ]
     },
     "execution_count": 70,
     "metadata": {},
     "output_type": "execute_result"
    }
   ],
   "source": [
    "# Selecciono y muestro la columna 'Cancellation Month' del DataFrame\n",
    "cancellation_month_column = data2['Cancellation Month']\n",
    "cancellation_month_column"
   ]
  },
  {
   "cell_type": "code",
   "execution_count": 71,
   "metadata": {},
   "outputs": [
    {
     "name": "stdout",
     "output_type": "stream",
     "text": [
      "Loyalty Number        0\n",
      "Country               0\n",
      "Province              0\n",
      "City                  0\n",
      "Postal Code           0\n",
      "Gender                0\n",
      "Education             0\n",
      "Salary                0\n",
      "Marital Status        0\n",
      "Loyalty Card          0\n",
      "CLV                   0\n",
      "Enrollment Type       0\n",
      "Enrollment Year       0\n",
      "Enrollment Month      0\n",
      "Cancellation Year     0\n",
      "Cancellation Month    0\n",
      "dtype: int64\n"
     ]
    }
   ],
   "source": [
    "# Creo un bucle for que itere sobre las columnas y reemplace los valores nulos con la media de la columna\n",
    "for column in ['Salary', 'Cancellation Year', 'Cancellation Month']:\n",
    "\n",
    "# Calculo la media de la columna, omitiendo los valores nulos\n",
    "    mean_value = data2[column].mean()\n",
    "    \n",
    "# Reemplazo los valores nulos con la media de la columna en la copia del DataFrame\n",
    "    data2[column].fillna(mean_value, inplace=True)\n",
    "\n",
    "# Verifico que se hayan reemplazado los valores nulos\n",
    "print(data2.isnull().sum())"
   ]
  },
  {
   "cell_type": "markdown",
   "metadata": {},
   "source": [
    "_ _ _"
   ]
  },
  {
   "cell_type": "markdown",
   "metadata": {},
   "source": [
    "- Quito Imperfecciones en 'flight_activity'"
   ]
  },
  {
   "cell_type": "code",
   "execution_count": 72,
   "metadata": {},
   "outputs": [
    {
     "name": "stdout",
     "output_type": "stream",
     "text": [
      "Columna: Loyalty Number\n",
      "[100018 100102 100140 ... 999731 999788 999891]\n",
      "\n",
      "--------------------\n",
      "\n",
      "Columna: Year\n",
      "[2017 2018]\n",
      "\n",
      "--------------------\n",
      "\n",
      "Columna: Month\n",
      "[ 1  9  2  3 11  4  5  7  6  8 10 12]\n",
      "\n",
      "--------------------\n",
      "\n",
      "Columna: Flights Booked\n",
      "[ 3 10  6  0  8 11  9  4  7  5  2  1 12 13 14 16 15 17 18 19 20 21]\n",
      "\n",
      "--------------------\n",
      "\n",
      "Columna: Flights with Companions\n",
      "[ 0  4  7  1  6  3  5  2 10  8  9 11]\n",
      "\n",
      "--------------------\n",
      "\n",
      "Columna: Total Flights\n",
      "[ 3 14  6  0 15 11 12 10  8  9  7  5 16  2  1 17 13 22  4 19 18 21 26 20\n",
      " 23 25 27 24 28 30 29 31 32]\n",
      "\n",
      "--------------------\n",
      "\n",
      "Columna: Distance\n",
      "[1521 2030 1200 ... 1217  617 4135]\n",
      "\n",
      "--------------------\n",
      "\n",
      "Columna: Points Accumulated\n",
      "[152.   203.   120.   ...  18.75 601.   626.  ]\n",
      "\n",
      "--------------------\n",
      "\n",
      "Columna: Points Redeemed\n",
      "[  0 341 364 310 445 312 343 366 389 292 447 324 456 409 436 327 322 291\n",
      " 323 300 290 309 325 386 321 363 340 670 443 517 444 328 344 367 313 333\n",
      " 293 449 297 455 372 356 405 381 466 419 369 352 482 335 329 305 415 396\n",
      " 317 348 314 334 350 330 318 298 420 336 471 680 441 353 484 301 374 417\n",
      " 501 299 398 307 368 306 347 439 395 481 337 382 426 373 399 424 326 392\n",
      " 438 467 480 448 308 400 376 375 460 339 385 611 431 320 362 404 442 410\n",
      " 361 319 435 414 464 477 315 485 370 421 349 371 416 496 510 667 465 434\n",
      " 346 487 408 500 360 378 345 358 479 380 411 491 505 446 425 476 393 418\n",
      " 332 401 454 303 594 506 355 302 403 379 437 561 483 597 391 562 342 407\n",
      " 490 468 488 457 365 357 463 388 413 351 462 440 493 507 338 377 428 525\n",
      " 390 473 359 423 519 453 522 429 450 383 469 402 354 422 458 384 656 461\n",
      " 427 478 523 719 538 515 394 472 433 387 540 530 498 512 452 311 470 541\n",
      " 331 570 527 658 494 638 486 509 316 492 536 502 551 504 304 296 294 495\n",
      " 432 526 459 589 529 586 537 503 552 779 516 639 474 547 542 557 406 563\n",
      " 511 518 532 553 508 560 676 716 593 513 499 566 497 546 451 533 489 708\n",
      " 531 567 521 412 430 610 528 556 582 720 397 578 772 571 534 539 576 585\n",
      " 520 601 598 630 524 588 550 514 573 544 669 577 580 591 614 574 579 595\n",
      " 618 776 548 602 543 581 572 607 603 564 620 615 636 575 584 559 648 590\n",
      " 545 627 608 568 625 637 632 650 600 613 621 535 587 475 592 624 619 554\n",
      " 583 628 558 664 789 635 617 699 604 646 659 616 704 569 626 609 751 599\n",
      " 644 800 677 666 596 612 629 657 675 702 683 633 811 688 565 706 605 549\n",
      " 662 660 295 673 555 631 715 651 697 792 678 655 707 668 687 622 642 781\n",
      " 695 711 701 721 623 693 692 640 665 684 745 808 746 749 694 643 725 850\n",
      " 703 726 691 740 737 689 765 649 690 661 696 682 700 750 771 798 710 736\n",
      " 757 743 654 758 647 606 718 739 814 761 783 679 766 777 799 723 653 730\n",
      " 681 760 793 742 685 734 839 782 735 756 795 728 780 802 815 851 820 770\n",
      " 705 738 645 686 755 754 778 671 634 762 784 717 797 744 672 768 790 741\n",
      " 824 748 674 825 794 845 827 801 714 731 724 876 747 663 709 823 791 804\n",
      " 832 698 727 833 810 864 753 840 722 641 822 834 844 865 869 733 828 773\n",
      " 713 821 849 767 759 729 803 838 775 818 843 830 847 872 809 786 812 785\n",
      " 841 752 712 816 289 652 787 852 848 769 846 870 871 796 807 774 805 763\n",
      " 806 836 837 857 813 873 732 826 858 817 829 819 866 842 861 855 831 875\n",
      " 868 835 764 862 874 860 863 854 788 867 859]\n",
      "\n",
      "--------------------\n",
      "\n",
      "Columna: Dollar Cost Points Redeemed\n",
      "[ 0 28 30 25 36 32 24 26 37 33 35 27 31 54 42 29 38 34 39 55 41 49 40 48\n",
      " 45 53 58 44 43 46 52 47 63 57 62 51 50 64 56 61 65 60 68 59 66 69 67 71\n",
      " 70]\n",
      "\n",
      "--------------------\n",
      "\n"
     ]
    }
   ],
   "source": [
    "# Itero sobre todas las columnas del DataFrame 'flight_activity' para ver los valores únicos de cada fila y encontrar imperfecciones\n",
    "for column in data1.columns:\n",
    "    print(f\"Columna: {column}\")\n",
    "    print(data1[column].unique())\n",
    "    print(\"\\n--------------------\\n\") "
   ]
  },
  {
   "cell_type": "code",
   "execution_count": 73,
   "metadata": {},
   "outputs": [],
   "source": [
    "# Creo una función para limpiar las impurezas encontradas en los datos del data frame 'flight_activity'\n",
    "def clean_data1(df):\n",
    "    \"\"\"\n",
    "    Esta función limpia las impurezas del DataFrame 1.\n",
    "    \"\"\"\n",
    "\n",
    "    # Aseguro que todas las columnas que tengan números en negativo pasen a positivo con la función 'abs()'\n",
    "    for column in ['Distance', 'Points Accumulated']:\n",
    "        df[column] = df[column].abs()\n",
    "    \n",
    "    # Convierto 'Points Accumulated' a enteros para quitar el punto y por funcionalidad posterior\n",
    "    df['Points Accumulated'] = df['Points Accumulated'].astype(int)\n",
    "    \n",
    "    return df\n",
    "\n",
    "# Aplico la función de limpieza a 'data2'\n",
    "data1 = clean_data1(data1)"
   ]
  },
  {
   "cell_type": "code",
   "execution_count": 74,
   "metadata": {},
   "outputs": [
    {
     "name": "stdout",
     "output_type": "stream",
     "text": [
      "Columna: Loyalty Number\n",
      "[100018 100102 100140 ... 999731 999788 999891]\n",
      "\n",
      "--------------------\n",
      "\n",
      "Columna: Year\n",
      "[2017 2018]\n",
      "\n",
      "--------------------\n",
      "\n",
      "Columna: Month\n",
      "[ 1  9  2  3 11  4  5  7  6  8 10 12]\n",
      "\n",
      "--------------------\n",
      "\n",
      "Columna: Flights Booked\n",
      "[ 3 10  6  0  8 11  9  4  7  5  2  1 12 13 14 16 15 17 18 19 20 21]\n",
      "\n",
      "--------------------\n",
      "\n",
      "Columna: Flights with Companions\n",
      "[ 0  4  7  1  6  3  5  2 10  8  9 11]\n",
      "\n",
      "--------------------\n",
      "\n",
      "Columna: Total Flights\n",
      "[ 3 14  6  0 15 11 12 10  8  9  7  5 16  2  1 17 13 22  4 19 18 21 26 20\n",
      " 23 25 27 24 28 30 29 31 32]\n",
      "\n",
      "--------------------\n",
      "\n",
      "Columna: Distance\n",
      "[1521 2030 1200 ... 1217  617 4135]\n",
      "\n",
      "--------------------\n",
      "\n",
      "Columna: Points Accumulated\n",
      "[152 203 120   0  60 424 114 326 234 123 312 229 277 294 110 133 208 339\n",
      "  65 151 200 457 242 102 153 109 205 149 254 202  34 272 348 233 134 375\n",
      "  48 315 207 278 589  93  84 165 219 136  91 132 241 247 393  43 186 117\n",
      " 141 198 442 112 273 250 116 249  96  52 232 236 330 357 270 476  97  33\n",
      " 137  80 516  40 211  56 115 338 183 197  68 282 416 284  55 220  29  94\n",
      " 364 129 303 296 218 173 121 127 135 613 264 261 286 192 216 408 251 313\n",
      " 139 266 262 510 280 215 293 228 325 196  63 222 301 239  77 285 265 163\n",
      "  62 144  83 323 381  58 389 237 319 231 143 175 292 227  89 158 279  46\n",
      " 189 224 545 104 156 581 166 412 316 607 190 142 111 100 170 409 174 253\n",
      " 235 147 126  78  59 336 310 399 267 363 243 490 230 304 575 275 184 331\n",
      " 191 177  70 299 179  42  76 209 162  79  47 308 271 300 333  30 148 122\n",
      "  81  99 103 105 168  95 226 217 358 324 169  49 259  25 322 340 195 223\n",
      " 422 361 306 214 212  92 269 210 351 108  87 384 172 138 145 107 213 106\n",
      " 328 128 157 501 314 255 140 350  51  74 426 298 283 276 181 225  66 288\n",
      " 268  64 221 400 201 311 291 187 344 246 193 176 240 146  32 406  53 256\n",
      " 131 159 341 345 185 305 124 260  71  36 188 180  28 359 160  45 258 113\n",
      " 355 248  85 317 252 385 297  27 368 167 318 383 500  44 178 171 320 194\n",
      " 182 155 538 562 309 347 287 161 206 528 343 290 125 199 354 372 334 438\n",
      " 274 398 281 321 349  72 295 302 154 481  57  24 415 391 574 263 367 335\n",
      " 164 452 150 419 394 307 244 462 337 484 472 390 564 352  22 245 378 238\n",
      "  98 257 470 360 204 101  82 526  61 289 329 130  38  90  50 327 356 431\n",
      " 402 480  73 535 119  86  23  20 537 491 599  54 382  75  67  19 365 453\n",
      "  16 377  31 362 478 441 418 543 585  35 612 517  26 420 371 346 432 444\n",
      " 369  88 498 411 477 548 386 448 509 573 118 488 580 373  39 459 353 525\n",
      " 560 540  11 342 511  69  37 446 421 577 503 423 413 410 332 473 489 456\n",
      " 532 542 401 467 440 550 504 404 434 466 597 376 445 425 455 464 594 414\n",
      " 387  17 469 437 531 496 417 405 523 433 370 463  41 595 379 527 513 474\n",
      "   9 427 497 514 502 520  21 460 492 590 508 380  18 512 428 395 397 486\n",
      " 392 447 494 499 450 576 552 465 451 443 507  12 546 430 493 366 458 533\n",
      "  14 403 468 374 482 429  15 572 435 495 439 539 583 388 487 407 549 565\n",
      " 588 454 396 449 536 544 667 471 529 554 485 571 475 563 515 642 534 483\n",
      " 559 522 436 519 556 521 524 547 461 618 479 558 606 506 561 640 592  10\n",
      "  13 541 628 579 604 591 551 584 648 570 566 505 518 568 603 553 530 555\n",
      " 569 636 567 610 557 578 600 609 623 598 582 602 621 629 593 605 587 596\n",
      " 624 663 658 633 601 586 619 616 622 615 666 655 645 627 631 643 637 649\n",
      " 676 661 625 675 639 614 626]\n",
      "\n",
      "--------------------\n",
      "\n",
      "Columna: Points Redeemed\n",
      "[  0 341 364 310 445 312 343 366 389 292 447 324 456 409 436 327 322 291\n",
      " 323 300 290 309 325 386 321 363 340 670 443 517 444 328 344 367 313 333\n",
      " 293 449 297 455 372 356 405 381 466 419 369 352 482 335 329 305 415 396\n",
      " 317 348 314 334 350 330 318 298 420 336 471 680 441 353 484 301 374 417\n",
      " 501 299 398 307 368 306 347 439 395 481 337 382 426 373 399 424 326 392\n",
      " 438 467 480 448 308 400 376 375 460 339 385 611 431 320 362 404 442 410\n",
      " 361 319 435 414 464 477 315 485 370 421 349 371 416 496 510 667 465 434\n",
      " 346 487 408 500 360 378 345 358 479 380 411 491 505 446 425 476 393 418\n",
      " 332 401 454 303 594 506 355 302 403 379 437 561 483 597 391 562 342 407\n",
      " 490 468 488 457 365 357 463 388 413 351 462 440 493 507 338 377 428 525\n",
      " 390 473 359 423 519 453 522 429 450 383 469 402 354 422 458 384 656 461\n",
      " 427 478 523 719 538 515 394 472 433 387 540 530 498 512 452 311 470 541\n",
      " 331 570 527 658 494 638 486 509 316 492 536 502 551 504 304 296 294 495\n",
      " 432 526 459 589 529 586 537 503 552 779 516 639 474 547 542 557 406 563\n",
      " 511 518 532 553 508 560 676 716 593 513 499 566 497 546 451 533 489 708\n",
      " 531 567 521 412 430 610 528 556 582 720 397 578 772 571 534 539 576 585\n",
      " 520 601 598 630 524 588 550 514 573 544 669 577 580 591 614 574 579 595\n",
      " 618 776 548 602 543 581 572 607 603 564 620 615 636 575 584 559 648 590\n",
      " 545 627 608 568 625 637 632 650 600 613 621 535 587 475 592 624 619 554\n",
      " 583 628 558 664 789 635 617 699 604 646 659 616 704 569 626 609 751 599\n",
      " 644 800 677 666 596 612 629 657 675 702 683 633 811 688 565 706 605 549\n",
      " 662 660 295 673 555 631 715 651 697 792 678 655 707 668 687 622 642 781\n",
      " 695 711 701 721 623 693 692 640 665 684 745 808 746 749 694 643 725 850\n",
      " 703 726 691 740 737 689 765 649 690 661 696 682 700 750 771 798 710 736\n",
      " 757 743 654 758 647 606 718 739 814 761 783 679 766 777 799 723 653 730\n",
      " 681 760 793 742 685 734 839 782 735 756 795 728 780 802 815 851 820 770\n",
      " 705 738 645 686 755 754 778 671 634 762 784 717 797 744 672 768 790 741\n",
      " 824 748 674 825 794 845 827 801 714 731 724 876 747 663 709 823 791 804\n",
      " 832 698 727 833 810 864 753 840 722 641 822 834 844 865 869 733 828 773\n",
      " 713 821 849 767 759 729 803 838 775 818 843 830 847 872 809 786 812 785\n",
      " 841 752 712 816 289 652 787 852 848 769 846 870 871 796 807 774 805 763\n",
      " 806 836 837 857 813 873 732 826 858 817 829 819 866 842 861 855 831 875\n",
      " 868 835 764 862 874 860 863 854 788 867 859]\n",
      "\n",
      "--------------------\n",
      "\n",
      "Columna: Dollar Cost Points Redeemed\n",
      "[ 0 28 30 25 36 32 24 26 37 33 35 27 31 54 42 29 38 34 39 55 41 49 40 48\n",
      " 45 53 58 44 43 46 52 47 63 57 62 51 50 64 56 61 65 60 68 59 66 69 67 71\n",
      " 70]\n",
      "\n",
      "--------------------\n",
      "\n"
     ]
    }
   ],
   "source": [
    "# Creo una función para sacar los valores únicos de cada columna de un DataFrame dado\n",
    "# Itero sobre todas las columnas del DataFrame 'flight_activity' para ver los valores únicos de cada fila y ver si ha funcionado la limpieza \n",
    "def unique_values(df):\n",
    "    for column in df.columns:\n",
    "        print(f\"Columna: {column}\")\n",
    "        print(df[column].unique())\n",
    "        print(\"\\n--------------------\\n\")\n",
    "    return df.sample(5)\n",
    "\n",
    "unique_data1 = unique_values(data1)"
   ]
  },
  {
   "cell_type": "code",
   "execution_count": 75,
   "metadata": {},
   "outputs": [
    {
     "name": "stdout",
     "output_type": "stream",
     "text": [
      "<class 'pandas.core.frame.DataFrame'>\n",
      "Int64Index: 403760 entries, 0 to 405623\n",
      "Data columns (total 10 columns):\n",
      " #   Column                       Non-Null Count   Dtype\n",
      "---  ------                       --------------   -----\n",
      " 0   Loyalty Number               403760 non-null  int64\n",
      " 1   Year                         403760 non-null  int64\n",
      " 2   Month                        403760 non-null  int64\n",
      " 3   Flights Booked               403760 non-null  int64\n",
      " 4   Flights with Companions      403760 non-null  int64\n",
      " 5   Total Flights                403760 non-null  int64\n",
      " 6   Distance                     403760 non-null  int64\n",
      " 7   Points Accumulated           403760 non-null  int64\n",
      " 8   Points Redeemed              403760 non-null  int64\n",
      " 9   Dollar Cost Points Redeemed  403760 non-null  int64\n",
      "dtypes: int64(10)\n",
      "memory usage: 33.9 MB\n"
     ]
    }
   ],
   "source": [
    "# Imprimo de nuevo la información de 'flight_activity' para comprobar con la información de arriba que los \n",
    "# tipos son los que quiero\n",
    "data1.info()"
   ]
  },
  {
   "cell_type": "markdown",
   "metadata": {},
   "source": [
    "_ _ _"
   ]
  },
  {
   "cell_type": "markdown",
   "metadata": {},
   "source": [
    "- Quito Imperfecciones en 'loyalty_history'"
   ]
  },
  {
   "cell_type": "code",
   "execution_count": 76,
   "metadata": {},
   "outputs": [
    {
     "name": "stdout",
     "output_type": "stream",
     "text": [
      "Columna: Loyalty Number\n",
      "[480934 549612 429460 ... 776187 906428 652627]\n",
      "\n",
      "--------------------\n",
      "\n",
      "Columna: Country\n",
      "['Canada']\n",
      "\n",
      "--------------------\n",
      "\n",
      "Columna: Province\n",
      "['Ontario' 'Alberta' 'British Columbia' 'Quebec' 'Yukon' 'New Brunswick'\n",
      " 'Manitoba' 'Nova Scotia' 'Saskatchewan' 'Newfoundland'\n",
      " 'Prince Edward Island']\n",
      "\n",
      "--------------------\n",
      "\n",
      "Columna: City\n",
      "['Toronto' 'Edmonton' 'Vancouver' 'Hull' 'Whitehorse' 'Trenton' 'Montreal'\n",
      " 'Dawson Creek' 'Quebec City' 'Fredericton' 'Ottawa' 'Tremblant' 'Calgary'\n",
      " 'Thunder Bay' 'Whistler' 'Peace River' 'Winnipeg' 'Sudbury'\n",
      " 'West Vancouver' 'Halifax' 'London' 'Regina' 'Kelowna' \"St. John's\"\n",
      " 'Victoria' 'Kingston' 'Banff' 'Moncton' 'Charlottetown']\n",
      "\n",
      "--------------------\n",
      "\n",
      "Columna: Postal Code\n",
      "['M2Z 4K1' 'T3G 6Y6' 'V6E 3D9' 'P1W 1K4' 'J8Y 3Z5' 'Y2K 6R0' 'P5S 6R4'\n",
      " 'K8V 4B2' 'H2Y 2W2' 'M8Y 4K8' 'U5I 4F1' 'G1B 3L5' 'H4G 3T4' 'M2M 7K8'\n",
      " 'M2M 6J7' 'E3B 2H2' 'M1R 4K3' 'T9G 1W3' 'H2Y 4R4' 'V5R 1W3' 'P1L 8X8'\n",
      " 'K1F 2R2' 'H5Y 2S9' 'V1E 4R6' 'H2T 2J6' 'T3E 2V9' 'H2T 9K8' 'K8T 5M5'\n",
      " 'V6T 1Y8' 'P2T 6G3' 'T9O 2W2' 'V6E 3Z3' 'R6Y 4T5' 'M5V 1G5' 'V6V 8Z3'\n",
      " 'B3J 9S2' 'M5B 3E4' 'R2C 0M5' 'S6J 3G0' 'M2P 4F6' 'P1J 8T7' 'V09 2E9'\n",
      " 'A1C 6H9' 'V10 6T5' 'B3C 2M8' 'M9K 2P4' 'T4V 1D4' 'R3R 3T4' 'S1J 3C5'\n",
      " 'E1A 2A7' 'K1G 4Z0' 'H3T 8L4' 'C1A 6E8' 'H3J 5I6' 'M3R 4K8']\n",
      "\n",
      "--------------------\n",
      "\n",
      "Columna: Gender\n",
      "['Female' 'Male']\n",
      "\n",
      "--------------------\n",
      "\n",
      "Columna: Education\n",
      "['Bachelor' 'College' 'Master' 'High School or Below' 'Doctor']\n",
      "\n",
      "--------------------\n",
      "\n",
      "Columna: Salary\n",
      "[ 83236.          79245.60940875 103495.         ...  76178.\n",
      "  91970.         -57297.        ]\n",
      "\n",
      "--------------------\n",
      "\n",
      "Columna: Marital Status\n",
      "['Married' 'Divorced' 'Single']\n",
      "\n",
      "--------------------\n",
      "\n",
      "Columna: Loyalty Card\n",
      "['Star' 'Aurora' 'Nova']\n",
      "\n",
      "--------------------\n",
      "\n",
      "Columna: CLV\n",
      "[ 3839.14  3839.61  3839.75 ... 44771.3  50568.26 61134.68]\n",
      "\n",
      "--------------------\n",
      "\n",
      "Columna: Enrollment Type\n",
      "['Standard' '2018 Promotion']\n",
      "\n",
      "--------------------\n",
      "\n",
      "Columna: Enrollment Year\n",
      "[2016 2014 2013 2012 2015 2018 2017]\n",
      "\n",
      "--------------------\n",
      "\n",
      "Columna: Enrollment Month\n",
      "[ 2  3  7 10  5  6 12  1 11  8  4  9]\n",
      "\n",
      "--------------------\n",
      "\n",
      "Columna: Cancellation Year\n",
      "[2016.50314465 2018.         2015.         2017.         2014.\n",
      " 2016.         2013.        ]\n",
      "\n",
      "--------------------\n",
      "\n",
      "Columna: Cancellation Month\n",
      "[ 6.96274794  1.         12.          4.          2.          7.\n",
      " 11.          5.          6.         10.          8.          9.\n",
      "  3.        ]\n",
      "\n",
      "--------------------\n",
      "\n"
     ]
    }
   ],
   "source": [
    "# Itero sobre todas las columnas del DataFrame 'loyalty_history' para ver los valores únicos de cada fila \n",
    "# y encontrar imperfecciones\n",
    "for column in data2.columns:\n",
    "    print(f\"Columna: {column}\")\n",
    "    print(data2[column].unique())\n",
    "    print(\"\\n--------------------\\n\") "
   ]
  },
  {
   "cell_type": "code",
   "execution_count": 77,
   "metadata": {},
   "outputs": [],
   "source": [
    "# Creo una función para limpiar las imperfecciones detectadas en 'loyalty_history'\n",
    "def clean_data2(df):\n",
    "    \"\"\"\n",
    "    Esta función limpia las impurezas del DataFrame proporcionado.\n",
    "    \"\"\"\n",
    "    \n",
    "    # Convierto 'Cancellation Year' y 'Cancellation Month' a enteros para quitar los puntos y por practicidad posterior\n",
    "    df['Cancellation Year'] = df['Cancellation Year'].astype(int)\n",
    "    df['Cancellation Month'] = df['Cancellation Month'].astype(int)\n",
    "    \n",
    "    # Convierto 'Salary' a entero para quitar los puntos y por practicidad posterior\n",
    "    # Además aplico la función 'abs()' para convertir todos los números a positivo\n",
    "    df['Salary'] = df['Salary'].abs().astype(int)\n",
    "\n",
    "    \n",
    "    return df\n",
    "\n",
    "data2 = clean_data2(data2)"
   ]
  },
  {
   "cell_type": "code",
   "execution_count": 78,
   "metadata": {},
   "outputs": [
    {
     "name": "stdout",
     "output_type": "stream",
     "text": [
      "Columna: Loyalty Number\n",
      "[480934 549612 429460 ... 776187 906428 652627]\n",
      "\n",
      "--------------------\n",
      "\n",
      "Columna: Country\n",
      "['Canada']\n",
      "\n",
      "--------------------\n",
      "\n",
      "Columna: Province\n",
      "['Ontario' 'Alberta' 'British Columbia' 'Quebec' 'Yukon' 'New Brunswick'\n",
      " 'Manitoba' 'Nova Scotia' 'Saskatchewan' 'Newfoundland'\n",
      " 'Prince Edward Island']\n",
      "\n",
      "--------------------\n",
      "\n",
      "Columna: City\n",
      "['Toronto' 'Edmonton' 'Vancouver' 'Hull' 'Whitehorse' 'Trenton' 'Montreal'\n",
      " 'Dawson Creek' 'Quebec City' 'Fredericton' 'Ottawa' 'Tremblant' 'Calgary'\n",
      " 'Thunder Bay' 'Whistler' 'Peace River' 'Winnipeg' 'Sudbury'\n",
      " 'West Vancouver' 'Halifax' 'London' 'Regina' 'Kelowna' \"St. John's\"\n",
      " 'Victoria' 'Kingston' 'Banff' 'Moncton' 'Charlottetown']\n",
      "\n",
      "--------------------\n",
      "\n",
      "Columna: Postal Code\n",
      "['M2Z 4K1' 'T3G 6Y6' 'V6E 3D9' 'P1W 1K4' 'J8Y 3Z5' 'Y2K 6R0' 'P5S 6R4'\n",
      " 'K8V 4B2' 'H2Y 2W2' 'M8Y 4K8' 'U5I 4F1' 'G1B 3L5' 'H4G 3T4' 'M2M 7K8'\n",
      " 'M2M 6J7' 'E3B 2H2' 'M1R 4K3' 'T9G 1W3' 'H2Y 4R4' 'V5R 1W3' 'P1L 8X8'\n",
      " 'K1F 2R2' 'H5Y 2S9' 'V1E 4R6' 'H2T 2J6' 'T3E 2V9' 'H2T 9K8' 'K8T 5M5'\n",
      " 'V6T 1Y8' 'P2T 6G3' 'T9O 2W2' 'V6E 3Z3' 'R6Y 4T5' 'M5V 1G5' 'V6V 8Z3'\n",
      " 'B3J 9S2' 'M5B 3E4' 'R2C 0M5' 'S6J 3G0' 'M2P 4F6' 'P1J 8T7' 'V09 2E9'\n",
      " 'A1C 6H9' 'V10 6T5' 'B3C 2M8' 'M9K 2P4' 'T4V 1D4' 'R3R 3T4' 'S1J 3C5'\n",
      " 'E1A 2A7' 'K1G 4Z0' 'H3T 8L4' 'C1A 6E8' 'H3J 5I6' 'M3R 4K8']\n",
      "\n",
      "--------------------\n",
      "\n",
      "Columna: Gender\n",
      "['Female' 'Male']\n",
      "\n",
      "--------------------\n",
      "\n",
      "Columna: Education\n",
      "['Bachelor' 'College' 'Master' 'High School or Below' 'Doctor']\n",
      "\n",
      "--------------------\n",
      "\n",
      "Columna: Salary\n",
      "[ 83236  79245 103495 ...  76178  91970  57297]\n",
      "\n",
      "--------------------\n",
      "\n",
      "Columna: Marital Status\n",
      "['Married' 'Divorced' 'Single']\n",
      "\n",
      "--------------------\n",
      "\n",
      "Columna: Loyalty Card\n",
      "['Star' 'Aurora' 'Nova']\n",
      "\n",
      "--------------------\n",
      "\n",
      "Columna: CLV\n",
      "[ 3839.14  3839.61  3839.75 ... 44771.3  50568.26 61134.68]\n",
      "\n",
      "--------------------\n",
      "\n",
      "Columna: Enrollment Type\n",
      "['Standard' '2018 Promotion']\n",
      "\n",
      "--------------------\n",
      "\n",
      "Columna: Enrollment Year\n",
      "[2016 2014 2013 2012 2015 2018 2017]\n",
      "\n",
      "--------------------\n",
      "\n",
      "Columna: Enrollment Month\n",
      "[ 2  3  7 10  5  6 12  1 11  8  4  9]\n",
      "\n",
      "--------------------\n",
      "\n",
      "Columna: Cancellation Year\n",
      "[2016 2018 2015 2017 2014 2013]\n",
      "\n",
      "--------------------\n",
      "\n",
      "Columna: Cancellation Month\n",
      "[ 6  1 12  4  2  7 11  5 10  8  9  3]\n",
      "\n",
      "--------------------\n",
      "\n"
     ]
    }
   ],
   "source": [
    "# Llamo a la función que he creado anteriormente para ver los valores únicos y verificar si se han aplicado los cambios en 'loyalty_history'\n",
    "unique_data2 = unique_values(data2)"
   ]
  },
  {
   "cell_type": "code",
   "execution_count": 79,
   "metadata": {},
   "outputs": [
    {
     "name": "stdout",
     "output_type": "stream",
     "text": [
      "<class 'pandas.core.frame.DataFrame'>\n",
      "RangeIndex: 16737 entries, 0 to 16736\n",
      "Data columns (total 16 columns):\n",
      " #   Column              Non-Null Count  Dtype  \n",
      "---  ------              --------------  -----  \n",
      " 0   Loyalty Number      16737 non-null  int64  \n",
      " 1   Country             16737 non-null  object \n",
      " 2   Province            16737 non-null  object \n",
      " 3   City                16737 non-null  object \n",
      " 4   Postal Code         16737 non-null  object \n",
      " 5   Gender              16737 non-null  object \n",
      " 6   Education           16737 non-null  object \n",
      " 7   Salary              16737 non-null  int64  \n",
      " 8   Marital Status      16737 non-null  object \n",
      " 9   Loyalty Card        16737 non-null  object \n",
      " 10  CLV                 16737 non-null  float64\n",
      " 11  Enrollment Type     16737 non-null  object \n",
      " 12  Enrollment Year     16737 non-null  int64  \n",
      " 13  Enrollment Month    16737 non-null  int64  \n",
      " 14  Cancellation Year   16737 non-null  int64  \n",
      " 15  Cancellation Month  16737 non-null  int64  \n",
      "dtypes: float64(1), int64(6), object(9)\n",
      "memory usage: 2.0+ MB\n"
     ]
    }
   ],
   "source": [
    "# Imprimo de nuevo la información de 'loyalty_history' para comprobar con la información de arriba que los tipos son los que quiero\n",
    "data2.info()"
   ]
  },
  {
   "cell_type": "markdown",
   "metadata": {},
   "source": [
    "_ _ _"
   ]
  },
  {
   "cell_type": "markdown",
   "metadata": {},
   "source": [
    "- Creo los nuevos csv para trabajar desde ellos a partir de ahora, con los datos limpios"
   ]
  },
  {
   "cell_type": "code",
   "execution_count": 80,
   "metadata": {},
   "outputs": [],
   "source": [
    "data1.to_csv('flight_activity_clean.csv')\n",
    "data2.to_csv('loyalty_history_clean.csv')"
   ]
  },
  {
   "cell_type": "markdown",
   "metadata": {},
   "source": [
    "_ _ _"
   ]
  },
  {
   "cell_type": "markdown",
   "metadata": {},
   "source": [
    "⬛⬛⬛⬛⬛⬛⬛⬛⬛⬛⬛⬛⬛⬛⬛⬛⬛⬛⬛⬛⬛⬛⬛⬛⬛⬛⬛⬛⬛⬛⬛⬛⬛⬛⬛⬛⬛⬛⬛⬛⬛⬛⬛"
   ]
  },
  {
   "cell_type": "markdown",
   "metadata": {},
   "source": [
    "## Junto ambos DataFrame con los datos ya limpios 🔀"
   ]
  },
  {
   "cell_type": "markdown",
   "metadata": {},
   "source": [
    "⬛⬛⬛⬛⬛⬛⬛⬛⬛⬛⬛⬛⬛⬛⬛⬛⬛⬛⬛⬛⬛⬛⬛⬛⬛⬛⬛⬛⬛⬛⬛⬛⬛⬛⬛⬛⬛⬛⬛⬛⬛⬛⬛"
   ]
  },
  {
   "cell_type": "code",
   "execution_count": 81,
   "metadata": {},
   "outputs": [
    {
     "data": {
      "text/html": [
       "<div>\n",
       "<style scoped>\n",
       "    .dataframe tbody tr th:only-of-type {\n",
       "        vertical-align: middle;\n",
       "    }\n",
       "\n",
       "    .dataframe tbody tr th {\n",
       "        vertical-align: top;\n",
       "    }\n",
       "\n",
       "    .dataframe thead th {\n",
       "        text-align: right;\n",
       "    }\n",
       "</style>\n",
       "<table border=\"1\" class=\"dataframe\">\n",
       "  <thead>\n",
       "    <tr style=\"text-align: right;\">\n",
       "      <th></th>\n",
       "      <th>Loyalty Number</th>\n",
       "      <th>Year</th>\n",
       "      <th>Month</th>\n",
       "      <th>Flights Booked</th>\n",
       "      <th>Flights with Companions</th>\n",
       "      <th>Total Flights</th>\n",
       "      <th>Distance</th>\n",
       "      <th>Points Accumulated</th>\n",
       "      <th>Points Redeemed</th>\n",
       "      <th>Dollar Cost Points Redeemed</th>\n",
       "      <th>Country</th>\n",
       "      <th>Province</th>\n",
       "      <th>City</th>\n",
       "      <th>Postal Code</th>\n",
       "      <th>Gender</th>\n",
       "      <th>Education</th>\n",
       "      <th>Salary</th>\n",
       "      <th>Marital Status</th>\n",
       "      <th>Loyalty Card</th>\n",
       "      <th>CLV</th>\n",
       "      <th>Enrollment Type</th>\n",
       "      <th>Enrollment Year</th>\n",
       "      <th>Enrollment Month</th>\n",
       "      <th>Cancellation Year</th>\n",
       "      <th>Cancellation Month</th>\n",
       "    </tr>\n",
       "  </thead>\n",
       "  <tbody>\n",
       "    <tr>\n",
       "      <th>0</th>\n",
       "      <td>100018</td>\n",
       "      <td>2017</td>\n",
       "      <td>1</td>\n",
       "      <td>3</td>\n",
       "      <td>0</td>\n",
       "      <td>3</td>\n",
       "      <td>1521</td>\n",
       "      <td>152</td>\n",
       "      <td>0</td>\n",
       "      <td>0</td>\n",
       "      <td>Canada</td>\n",
       "      <td>Alberta</td>\n",
       "      <td>Edmonton</td>\n",
       "      <td>T9G 1W3</td>\n",
       "      <td>Female</td>\n",
       "      <td>Bachelor</td>\n",
       "      <td>92552</td>\n",
       "      <td>Married</td>\n",
       "      <td>Aurora</td>\n",
       "      <td>7919.2</td>\n",
       "      <td>Standard</td>\n",
       "      <td>2016</td>\n",
       "      <td>8</td>\n",
       "      <td>2016</td>\n",
       "      <td>6</td>\n",
       "    </tr>\n",
       "    <tr>\n",
       "      <th>1</th>\n",
       "      <td>100018</td>\n",
       "      <td>2017</td>\n",
       "      <td>2</td>\n",
       "      <td>2</td>\n",
       "      <td>2</td>\n",
       "      <td>4</td>\n",
       "      <td>1320</td>\n",
       "      <td>132</td>\n",
       "      <td>0</td>\n",
       "      <td>0</td>\n",
       "      <td>Canada</td>\n",
       "      <td>Alberta</td>\n",
       "      <td>Edmonton</td>\n",
       "      <td>T9G 1W3</td>\n",
       "      <td>Female</td>\n",
       "      <td>Bachelor</td>\n",
       "      <td>92552</td>\n",
       "      <td>Married</td>\n",
       "      <td>Aurora</td>\n",
       "      <td>7919.2</td>\n",
       "      <td>Standard</td>\n",
       "      <td>2016</td>\n",
       "      <td>8</td>\n",
       "      <td>2016</td>\n",
       "      <td>6</td>\n",
       "    </tr>\n",
       "    <tr>\n",
       "      <th>2</th>\n",
       "      <td>100018</td>\n",
       "      <td>2018</td>\n",
       "      <td>10</td>\n",
       "      <td>6</td>\n",
       "      <td>4</td>\n",
       "      <td>10</td>\n",
       "      <td>3110</td>\n",
       "      <td>311</td>\n",
       "      <td>385</td>\n",
       "      <td>31</td>\n",
       "      <td>Canada</td>\n",
       "      <td>Alberta</td>\n",
       "      <td>Edmonton</td>\n",
       "      <td>T9G 1W3</td>\n",
       "      <td>Female</td>\n",
       "      <td>Bachelor</td>\n",
       "      <td>92552</td>\n",
       "      <td>Married</td>\n",
       "      <td>Aurora</td>\n",
       "      <td>7919.2</td>\n",
       "      <td>Standard</td>\n",
       "      <td>2016</td>\n",
       "      <td>8</td>\n",
       "      <td>2016</td>\n",
       "      <td>6</td>\n",
       "    </tr>\n",
       "    <tr>\n",
       "      <th>3</th>\n",
       "      <td>100018</td>\n",
       "      <td>2017</td>\n",
       "      <td>4</td>\n",
       "      <td>4</td>\n",
       "      <td>0</td>\n",
       "      <td>4</td>\n",
       "      <td>924</td>\n",
       "      <td>92</td>\n",
       "      <td>0</td>\n",
       "      <td>0</td>\n",
       "      <td>Canada</td>\n",
       "      <td>Alberta</td>\n",
       "      <td>Edmonton</td>\n",
       "      <td>T9G 1W3</td>\n",
       "      <td>Female</td>\n",
       "      <td>Bachelor</td>\n",
       "      <td>92552</td>\n",
       "      <td>Married</td>\n",
       "      <td>Aurora</td>\n",
       "      <td>7919.2</td>\n",
       "      <td>Standard</td>\n",
       "      <td>2016</td>\n",
       "      <td>8</td>\n",
       "      <td>2016</td>\n",
       "      <td>6</td>\n",
       "    </tr>\n",
       "    <tr>\n",
       "      <th>4</th>\n",
       "      <td>100018</td>\n",
       "      <td>2017</td>\n",
       "      <td>5</td>\n",
       "      <td>0</td>\n",
       "      <td>0</td>\n",
       "      <td>0</td>\n",
       "      <td>0</td>\n",
       "      <td>0</td>\n",
       "      <td>0</td>\n",
       "      <td>0</td>\n",
       "      <td>Canada</td>\n",
       "      <td>Alberta</td>\n",
       "      <td>Edmonton</td>\n",
       "      <td>T9G 1W3</td>\n",
       "      <td>Female</td>\n",
       "      <td>Bachelor</td>\n",
       "      <td>92552</td>\n",
       "      <td>Married</td>\n",
       "      <td>Aurora</td>\n",
       "      <td>7919.2</td>\n",
       "      <td>Standard</td>\n",
       "      <td>2016</td>\n",
       "      <td>8</td>\n",
       "      <td>2016</td>\n",
       "      <td>6</td>\n",
       "    </tr>\n",
       "  </tbody>\n",
       "</table>\n",
       "</div>"
      ],
      "text/plain": [
       "   Loyalty Number  Year  Month  Flights Booked  Flights with Companions  \\\n",
       "0          100018  2017      1               3                        0   \n",
       "1          100018  2017      2               2                        2   \n",
       "2          100018  2018     10               6                        4   \n",
       "3          100018  2017      4               4                        0   \n",
       "4          100018  2017      5               0                        0   \n",
       "\n",
       "   Total Flights  Distance  Points Accumulated  Points Redeemed  \\\n",
       "0              3      1521                 152                0   \n",
       "1              4      1320                 132                0   \n",
       "2             10      3110                 311              385   \n",
       "3              4       924                  92                0   \n",
       "4              0         0                   0                0   \n",
       "\n",
       "   Dollar Cost Points Redeemed Country Province      City Postal Code  Gender  \\\n",
       "0                            0  Canada  Alberta  Edmonton     T9G 1W3  Female   \n",
       "1                            0  Canada  Alberta  Edmonton     T9G 1W3  Female   \n",
       "2                           31  Canada  Alberta  Edmonton     T9G 1W3  Female   \n",
       "3                            0  Canada  Alberta  Edmonton     T9G 1W3  Female   \n",
       "4                            0  Canada  Alberta  Edmonton     T9G 1W3  Female   \n",
       "\n",
       "  Education  Salary Marital Status Loyalty Card     CLV Enrollment Type  \\\n",
       "0  Bachelor   92552        Married       Aurora  7919.2        Standard   \n",
       "1  Bachelor   92552        Married       Aurora  7919.2        Standard   \n",
       "2  Bachelor   92552        Married       Aurora  7919.2        Standard   \n",
       "3  Bachelor   92552        Married       Aurora  7919.2        Standard   \n",
       "4  Bachelor   92552        Married       Aurora  7919.2        Standard   \n",
       "\n",
       "   Enrollment Year  Enrollment Month  Cancellation Year  Cancellation Month  \n",
       "0             2016                 8               2016                   6  \n",
       "1             2016                 8               2016                   6  \n",
       "2             2016                 8               2016                   6  \n",
       "3             2016                 8               2016                   6  \n",
       "4             2016                 8               2016                   6  "
      ]
     },
     "execution_count": 81,
     "metadata": {},
     "output_type": "execute_result"
    }
   ],
   "source": [
    "# Cargo los datos limpios de los archivos CSV\n",
    "flight_activity_clean = pd.read_csv('flight_activity_clean.csv', index_col=0)\n",
    "loyalty_history_clean = pd.read_csv('loyalty_history_clean.csv', index_col=0)\n",
    "\n",
    "# Realizo un merge para juntar los DataFrames usando 'Loyalty Number' como clave\n",
    "clean_data = pd.merge(flight_activity_clean, loyalty_history_clean, on='Loyalty Number')\n",
    "\n",
    "# Muestra las primeras filas del DataFrame combinado\n",
    "clean_data.head()"
   ]
  },
  {
   "cell_type": "code",
   "execution_count": 82,
   "metadata": {},
   "outputs": [
    {
     "data": {
      "text/plain": [
       "(403760, 25)"
      ]
     },
     "execution_count": 82,
     "metadata": {},
     "output_type": "execute_result"
    }
   ],
   "source": [
    "# Compruebo que la cantidad de columnas y filas es la correcta\n",
    "clean_data.shape"
   ]
  },
  {
   "cell_type": "code",
   "execution_count": 83,
   "metadata": {},
   "outputs": [
    {
     "data": {
      "text/plain": [
       "Index(['Loyalty Number', 'Year', 'Month', 'Flights Booked',\n",
       "       'Flights with Companions', 'Total Flights', 'Distance',\n",
       "       'Points Accumulated', 'Points Redeemed', 'Dollar Cost Points Redeemed',\n",
       "       'Country', 'Province', 'City', 'Postal Code', 'Gender', 'Education',\n",
       "       'Salary', 'Marital Status', 'Loyalty Card', 'CLV', 'Enrollment Type',\n",
       "       'Enrollment Year', 'Enrollment Month', 'Cancellation Year',\n",
       "       'Cancellation Month'],\n",
       "      dtype='object')"
      ]
     },
     "execution_count": 83,
     "metadata": {},
     "output_type": "execute_result"
    }
   ],
   "source": [
    "# Saco los nombres de las columnas para poder verlas mejor y ver que todo está correcto \n",
    "clean_data.columns"
   ]
  },
  {
   "cell_type": "code",
   "execution_count": 84,
   "metadata": {},
   "outputs": [
    {
     "name": "stdout",
     "output_type": "stream",
     "text": [
      "<class 'pandas.core.frame.DataFrame'>\n",
      "Int64Index: 403760 entries, 0 to 403759\n",
      "Data columns (total 25 columns):\n",
      " #   Column                       Non-Null Count   Dtype  \n",
      "---  ------                       --------------   -----  \n",
      " 0   Loyalty Number               403760 non-null  int64  \n",
      " 1   Year                         403760 non-null  int64  \n",
      " 2   Month                        403760 non-null  int64  \n",
      " 3   Flights Booked               403760 non-null  int64  \n",
      " 4   Flights with Companions      403760 non-null  int64  \n",
      " 5   Total Flights                403760 non-null  int64  \n",
      " 6   Distance                     403760 non-null  int64  \n",
      " 7   Points Accumulated           403760 non-null  int64  \n",
      " 8   Points Redeemed              403760 non-null  int64  \n",
      " 9   Dollar Cost Points Redeemed  403760 non-null  int64  \n",
      " 10  Country                      403760 non-null  object \n",
      " 11  Province                     403760 non-null  object \n",
      " 12  City                         403760 non-null  object \n",
      " 13  Postal Code                  403760 non-null  object \n",
      " 14  Gender                       403760 non-null  object \n",
      " 15  Education                    403760 non-null  object \n",
      " 16  Salary                       403760 non-null  int64  \n",
      " 17  Marital Status               403760 non-null  object \n",
      " 18  Loyalty Card                 403760 non-null  object \n",
      " 19  CLV                          403760 non-null  float64\n",
      " 20  Enrollment Type              403760 non-null  object \n",
      " 21  Enrollment Year              403760 non-null  int64  \n",
      " 22  Enrollment Month             403760 non-null  int64  \n",
      " 23  Cancellation Year            403760 non-null  int64  \n",
      " 24  Cancellation Month           403760 non-null  int64  \n",
      "dtypes: float64(1), int64(15), object(9)\n",
      "memory usage: 80.1+ MB\n"
     ]
    }
   ],
   "source": [
    "# Verifico la estructura del DataFrame combinado\n",
    "clean_data.info()"
   ]
  },
  {
   "cell_type": "markdown",
   "metadata": {},
   "source": [
    "_ _ _"
   ]
  },
  {
   "cell_type": "markdown",
   "metadata": {},
   "source": [
    "- Creo un CSV con ambos DataFrame, limpio "
   ]
  },
  {
   "cell_type": "code",
   "execution_count": 85,
   "metadata": {},
   "outputs": [],
   "source": [
    "clean_data.to_csv('Clean_data_flights_and_loyalty.csv')"
   ]
  },
  {
   "cell_type": "markdown",
   "metadata": {},
   "source": [
    "_ _ _"
   ]
  },
  {
   "cell_type": "markdown",
   "metadata": {},
   "source": [
    "⬛⬛⬛⬛⬛⬛⬛⬛⬛⬛⬛⬛⬛⬛⬛⬛⬛⬛⬛⬛⬛⬛⬛⬛⬛⬛⬛⬛⬛⬛⬛⬛⬛⬛⬛⬛⬛⬛⬛⬛⬛⬛⬛"
   ]
  },
  {
   "cell_type": "markdown",
   "metadata": {},
   "source": [
    "## Preparación para la Visualización 👩‍🎤"
   ]
  },
  {
   "cell_type": "markdown",
   "metadata": {},
   "source": [
    "⬛⬛⬛⬛⬛⬛⬛⬛⬛⬛⬛⬛⬛⬛⬛⬛⬛⬛⬛⬛⬛⬛⬛⬛⬛⬛⬛⬛⬛⬛⬛⬛⬛⬛⬛⬛⬛⬛⬛⬛⬛⬛⬛"
   ]
  },
  {
   "cell_type": "markdown",
   "metadata": {},
   "source": [
    "### **¿Por qué elijo Matplotlib?**\n",
    "\n",
    "- Ofrece un amplio rango de tipos de gráficos, lo que lo hace adecuado para casi todos los ejercicios de visualización propuestos, desde barras hasta scatter plots.\n",
    "\n",
    "- Permite un control detallado sobre la apariencia de los gráficos, lo cual es crucial para la presentación de datos en un contexto profesional o académico."
   ]
  },
  {
   "cell_type": "markdown",
   "metadata": {},
   "source": [
    "### Añado Colorcet para: \n",
    "\n",
    "Agregar un toque con un conjunto de paletas de colores perceptualmente uniformes para la visualización de datos."
   ]
  },
  {
   "cell_type": "code",
   "execution_count": 86,
   "metadata": {},
   "outputs": [],
   "source": [
    "#pip install colorcet"
   ]
  },
  {
   "cell_type": "code",
   "execution_count": 87,
   "metadata": {},
   "outputs": [],
   "source": [
    "# Importo pandas para el manejo de datos\n",
    "import pandas as pd\n",
    "\n",
    "# Importo matplotlib.pyplot para crear gráficos básicos\n",
    "import matplotlib.pyplot as plt\n",
    "\n",
    "# Importo seaborn para crear gráficos avanzados y estadísticos\n",
    "import seaborn as sns\n",
    "\n",
    "# Importo colorcet para paletas de colores perceptualmente uniformes\n",
    "import colorcet as cc\n"
   ]
  },
  {
   "cell_type": "markdown",
   "metadata": {},
   "source": [
    "_ _ _"
   ]
  },
  {
   "cell_type": "markdown",
   "metadata": {},
   "source": [
    "- Puedo elegir entre el estilo de fondo de la gráfica que prefiera"
   ]
  },
  {
   "cell_type": "code",
   "execution_count": 88,
   "metadata": {},
   "outputs": [],
   "source": [
    "# Configuro el estilo de los gráficos\n",
    "# sns.set(style=\"whitegrid\")"
   ]
  },
  {
   "cell_type": "code",
   "execution_count": 89,
   "metadata": {},
   "outputs": [],
   "source": [
    "# Estilo darkgrid\n",
    "#sns.set(style=\"darkgrid\")"
   ]
  },
  {
   "cell_type": "code",
   "execution_count": 90,
   "metadata": {},
   "outputs": [],
   "source": [
    "# Estilo dark\n",
    "#sns.set(style=\"dark\")"
   ]
  },
  {
   "cell_type": "code",
   "execution_count": 91,
   "metadata": {},
   "outputs": [],
   "source": [
    "# Estilo white\n",
    "# sns.set(style=\"white\")"
   ]
  },
  {
   "cell_type": "code",
   "execution_count": 92,
   "metadata": {},
   "outputs": [],
   "source": [
    "# Estilo ticks\n",
    "#sns.set(style=\"ticks\")"
   ]
  },
  {
   "cell_type": "markdown",
   "metadata": {},
   "source": [
    "- También puedo elegir la paleta"
   ]
  },
  {
   "cell_type": "code",
   "execution_count": 93,
   "metadata": {},
   "outputs": [
    {
     "name": "stdout",
     "output_type": "stream",
     "text": [
      "SEABORN\n"
     ]
    },
    {
     "data": {
      "image/png": "[encoded data removed]",
      "text/plain": [
       "<Figure size 720x72 with 1 Axes>"
      ]
     },
     "metadata": {},
     "output_type": "display_data"
    },
    {
     "data": {
      "image/png": "[encoded data removed]",
      "text/plain": [
       "<Figure size 720x72 with 1 Axes>"
      ]
     },
     "metadata": {},
     "output_type": "display_data"
    },
    {
     "data": {
      "image/png": "[encoded data removed]",
      "text/plain": [
       "<Figure size 720x72 with 1 Axes>"
      ]
     },
     "metadata": {},
     "output_type": "display_data"
    },
    {
     "data": {
      "image/png": "[encoded data removed]",
      "text/plain": [
       "<Figure size 720x72 with 1 Axes>"
      ]
     },
     "metadata": {},
     "output_type": "display_data"
    },
    {
     "data": {
      "image/png": "[encoded data removed]",
      "text/plain": [
       "<Figure size 720x72 with 1 Axes>"
      ]
     },
     "metadata": {},
     "output_type": "display_data"
    },
    {
     "data": {
      "image/png": "[encoded data removed]",
      "text/plain": [
       "<Figure size 720x72 with 1 Axes>"
      ]
     },
     "metadata": {},
     "output_type": "display_data"
    }
   ],
   "source": [
    "# Imprimo una muestra de paletas para ver cuál me gusta más y poder elegir\n",
    "\n",
    "# Nombres de las paletas\n",
    "palettes = [\"deep\", \"muted\", \"bright\", \"pastel\", \"dark\", \"colorblind\"]\n",
    "print(\"SEABORN\")\n",
    "\n",
    "# Visualizar todas las paletas\n",
    "for palette in palettes:\n",
    "    sns.palplot(sns.color_palette(palette))\n",
    "    plt.title(f'Paleta: {palette}')\n",
    "    plt.show()"
   ]
  },
  {
   "cell_type": "code",
   "execution_count": 94,
   "metadata": {},
   "outputs": [
    {
     "name": "stdout",
     "output_type": "stream",
     "text": [
      "COLORCET\n"
     ]
    },
    {
     "data": {
      "image/png": "[encoded data removed]",
      "text/plain": [
       "<Figure size 18432x72 with 1 Axes>"
      ]
     },
     "metadata": {},
     "output_type": "display_data"
    },
    {
     "data": {
      "image/png": "[encoded data removed]",
      "text/plain": [
       "<Figure size 18432x72 with 1 Axes>"
      ]
     },
     "metadata": {},
     "output_type": "display_data"
    },
    {
     "data": {
      "image/png": "[encoded data removed]",
      "text/plain": [
       "<Figure size 18432x72 with 1 Axes>"
      ]
     },
     "metadata": {},
     "output_type": "display_data"
    },
    {
     "data": {
      "image/png": "[encoded data removed]",
      "text/plain": [
       "<Figure size 18432x72 with 1 Axes>"
      ]
     },
     "metadata": {},
     "output_type": "display_data"
    },
    {
     "data": {
      "image/png": "[encoded data removed]",
      "text/plain": [
       "<Figure size 18432x72 with 1 Axes>"
      ]
     },
     "metadata": {},
     "output_type": "display_data"
    },
    {
     "data": {
      "image/png": "[encoded data removed]",
      "text/plain": [
       "<Figure size 18432x72 with 1 Axes>"
      ]
     },
     "metadata": {},
     "output_type": "display_data"
    },
    {
     "data": {
      "image/png": "[encoded data removed]",
      "text/plain": [
       "<Figure size 18432x72 with 1 Axes>"
      ]
     },
     "metadata": {},
     "output_type": "display_data"
    },
    {
     "data": {
      "image/png": "[encoded data removed]",
      "text/plain": [
       "<Figure size 18432x72 with 1 Axes>"
      ]
     },
     "metadata": {},
     "output_type": "display_data"
    },
    {
     "data": {
      "image/png": "[encoded data removed]",
      "text/plain": [
       "<Figure size 18432x72 with 1 Axes>"
      ]
     },
     "metadata": {},
     "output_type": "display_data"
    },
    {
     "data": {
      "image/png": "[encoded data removed]",
      "text/plain": [
       "<Figure size 18432x72 with 1 Axes>"
      ]
     },
     "metadata": {},
     "output_type": "display_data"
    }
   ],
   "source": [
    "# Imprimo una muestra de paletas para ver cuál me gusta más y poder elegir\n",
    "\n",
    "# Listado de algunas paletas de Colorcet\n",
    "palettes = [\n",
    "    'fire', 'glasbey', 'rainbow', 'coolwarm', 'kbc', 'isolum', 'bmy', 'bmw',\n",
    "    'cyclic_mygbm_30_95_c78_s25', 'diverging_bwr_40_95_c42'\n",
    "]\n",
    "print(\"COLORCET\")\n",
    "# Función para mostrar una paleta\n",
    "def show_palette(palette_name):\n",
    "    colors = sns.color_palette(cc.palette[palette_name], as_cmap=False)\n",
    "    sns.palplot(colors)\n",
    "    plt.title(f'Colorcet Palette: {palette_name}')\n",
    "    plt.show()\n",
    "\n",
    "# Mostrar todas las paletas\n",
    "for palette in palettes:\n",
    "    show_palette(palette)\n"
   ]
  },
  {
   "cell_type": "markdown",
   "metadata": {},
   "source": [
    "- Por último, también puedo elegir el contexto\n",
    "\n",
    "    paper: Contexto estándar, adecuado para gráficos en documentos escritos o artículos científicos.\n",
    "\n",
    "    notebook: Contexto ligeramente más grande, adecuado para gráficos en cuadernos de Jupyter.\n",
    "\n",
    "    talk: Contexto aún más grande, adecuado para gráficos en presentaciones orales.\n",
    "\n",
    "    poster: Contexto más grande de todos, adecuado para gráficos en pósteres."
   ]
  },
  {
   "cell_type": "code",
   "execution_count": 95,
   "metadata": {},
   "outputs": [],
   "source": [
    "sns.set(style=\"white\", palette=\"bright\", context=\"notebook\")"
   ]
  },
  {
   "cell_type": "markdown",
   "metadata": {},
   "source": [
    "_ _ _ "
   ]
  },
  {
   "cell_type": "markdown",
   "metadata": {},
   "source": [
    "⬛⬛⬛⬛⬛⬛⬛⬛⬛⬛⬛⬛⬛⬛⬛⬛⬛⬛⬛⬛⬛⬛⬛⬛⬛⬛⬛⬛⬛⬛⬛⬛⬛⬛⬛⬛⬛⬛⬛⬛⬛⬛⬛"
   ]
  },
  {
   "cell_type": "markdown",
   "metadata": {},
   "source": [
    "## Visualización de Datos 📶"
   ]
  },
  {
   "cell_type": "markdown",
   "metadata": {},
   "source": [
    "⬛⬛⬛⬛⬛⬛⬛⬛⬛⬛⬛⬛⬛⬛⬛⬛⬛⬛⬛⬛⬛⬛⬛⬛⬛⬛⬛⬛⬛⬛⬛⬛⬛⬛⬛⬛⬛⬛⬛⬛⬛⬛⬛"
   ]
  },
  {
   "cell_type": "markdown",
   "metadata": {},
   "source": [
    "### 3. ¿Cómo se distribuye la cantidad de vuelos reservados por mes durante el año?"
   ]
  },
  {
   "cell_type": "code",
   "execution_count": 96,
   "metadata": {},
   "outputs": [
    {
     "data": {
      "image/png": "[encoded data removed]",
      "text/plain": [
       "<Figure size 720x432 with 1 Axes>"
      ]
     },
     "metadata": {},
     "output_type": "display_data"
    }
   ],
   "source": [
    "# Agrupo los datos por mes y sumo el número de vuelos reservados en cada mes\n",
    "monthly_flights = clean_data.groupby('Month')['Flights Booked'].sum().reset_index()\n",
    "\n",
    "# Creo una figura de tamaño 10x6 para el gráfico\n",
    "plt.figure(figsize=(10, 6))\n",
    "\n",
    "# Creo un gráfico de barras usando Seaborn, con el mes en el eje x y el total de vuelos reservados en el eje y\n",
    "barplot = sns.barplot(x='Month', y='Flights Booked', data=monthly_flights, ci=None)\n",
    "\n",
    "# Añadir etiquetas a cada barra para mostrar el valor\n",
    "for index, row in monthly_flights.iterrows():\n",
    "    \n",
    "    # Añade el texto (valor de los vuelos reservados) encima de cada barra\n",
    "    barplot.text(row.name, row['Flights Booked'], round(row['Flights Booked'], 2), color='black', ha=\"center\")\n",
    "\n",
    "# Establezco el título del gráfico\n",
    "plt.title('Distribución de Vuelos Reservados por Mes')\n",
    "\n",
    "# Establezco la etiqueta del eje x\n",
    "plt.xlabel('Mes')\n",
    "\n",
    "# Establezco la etiqueta del eje y\n",
    "plt.ylabel('Total de Vuelos Reservados')\n",
    "\n",
    "# Muestro el gráfico\n",
    "plt.show()\n"
   ]
  },
  {
   "cell_type": "markdown",
   "metadata": {},
   "source": [
    "_ _ _ "
   ]
  },
  {
   "cell_type": "markdown",
   "metadata": {},
   "source": [
    "### 4. ¿Existe una relación entre la distancia de los vuelos y los puntos acumulados por los clientes?"
   ]
  },
  {
   "cell_type": "code",
   "execution_count": 97,
   "metadata": {},
   "outputs": [],
   "source": [
    "# Creo una nueva columna para segmentar la distancia en categorías\n",
    "bins = [0, 1000, 2000, 3000, 4000, 5000, 6000]\n",
    "labels = ['0-1000', '1000-2000', '2000-3000', '3000-4000', '4000-5000', '5000-6000']\n",
    "clean_data['Distance Segment'] = pd.cut(clean_data['Distance'], bins=bins, labels=labels)"
   ]
  },
  {
   "cell_type": "markdown",
   "metadata": {},
   "source": [
    "**Explicación del código anterior:**\n",
    "\n",
    "**Definición de los Límites de los Segmentos (bins):**\n",
    "\n",
    "```python\n",
    "bins = [0, 1000, 2000, 3000, 4000, 5000, 6000]\n",
    "```\n",
    "\n",
    "- bins es una lista que define los límites de los segmentos. Cada valor en la lista representa un límite entre segmentos consecutivos.\n",
    "\n",
    "En este caso, los segmentos son: [0-1000), [1000-2000), [2000-3000), [3000-4000), [4000-5000), [5000-6000).\n",
    "Por ejemplo, 0 a 999 se encuentra en el primer segmento, 1000 a 1999 en el segundo, y así sucesivamente hasta el último segmento que es de 5000 a 5999.\n",
    "\n",
    "**Definición de las Etiquetas para los Segmentos (labels):**\n",
    "\n",
    "```python\n",
    "labels = ['0-1000', '1000-2000', '2000-3000', '3000-4000', '4000-5000', '5000-6000']\n",
    "```\n",
    "\n",
    "- labels es una lista que contiene las etiquetas que queremos asignar a cada uno de los segmentos definidos por bins.\n",
    "- Cada etiqueta corresponde al segmento de la misma posición en bins.\n",
    "Estas etiquetas se utilizarán para identificar los segmentos en la nueva columna.\n",
    "\n",
    "**Creación de la Nueva Columna 'Distance Segment':**\n",
    "\n",
    "```python\n",
    "clean_data['Distance Segment'] = pd.cut(clean_data['Distance'], bins=bins, labels=labels)\n",
    "```\n",
    "\n",
    "- pd.cut() es una función de pandas que se utiliza para segmentar y clasificar los datos en intervalos.\n",
    "- clean_data['Distance'] es la columna que queremos segmentar.\n",
    "- bins=bins indica los límites de los segmentos.\n",
    "- labels=labels asigna las etiquetas definidas a cada uno de los segmentos.\n",
    "\n",
    "El resultado de pd.cut() es una Serie que indica a qué segmento pertenece cada valor de la columna Distance.\n",
    "Esta Serie se asigna a una nueva columna en clean_data llamada Distance Segment."
   ]
  },
  {
   "cell_type": "code",
   "execution_count": 98,
   "metadata": {},
   "outputs": [
    {
     "data": {
      "image/png": "[encoded data removed]",
      "text/plain": [
       "<Figure size 864x432 with 1 Axes>"
      ]
     },
     "metadata": {},
     "output_type": "display_data"
    }
   ],
   "source": [
    "# Creo el gráfico de dispersión con colores por segmentos de distancia\n",
    "plt.figure(figsize=(12, 6))\n",
    "\n",
    "# Utilizo scatterplot para ver la relación entre la distancia y los puntos acumulados con colores por segmentos\n",
    "sns.scatterplot(x='Distance', y='Points Accumulated', hue='Distance Segment', data=clean_data, palette='viridis', alpha=0.6)\n",
    "\n",
    "# Establezco el título del gráfico\n",
    "plt.title('Relación entre la Distancia de los Vuelos y los Puntos Acumulados por Segmentos de Distancia')\n",
    "\n",
    "# Etiqueto el eje x\n",
    "plt.xlabel('Distancia')\n",
    "\n",
    "# Etiqueto el eje y\n",
    "plt.ylabel('Puntos Acumulados')\n",
    "\n",
    "# Muestro el gráfico\n",
    "plt.legend(title='Segmento de Distancia')\n",
    "plt.show()"
   ]
  },
  {
   "cell_type": "markdown",
   "metadata": {},
   "source": [
    "_ _ _"
   ]
  },
  {
   "cell_type": "markdown",
   "metadata": {},
   "source": [
    "### 5. ¿Cuál es la distribución de los clientes por provincia o estado?"
   ]
  },
  {
   "cell_type": "code",
   "execution_count": 99,
   "metadata": {},
   "outputs": [
    {
     "data": {
      "image/png": "[encoded data removed]",
      "text/plain": [
       "<Figure size 864x576 with 1 Axes>"
      ]
     },
     "metadata": {},
     "output_type": "display_data"
    }
   ],
   "source": [
    "# Agrupo los datos por provincia y cuento el número de clientes en cada una\n",
    "province_counts = clean_data['Province'].value_counts().reset_index()\n",
    "\n",
    "# Renombro las columnas para mayor claridad\n",
    "province_counts.columns = ['Province', 'Number of Clients']\n",
    "\n",
    "# Creo una figura de tamaño 12x8 para el gráfico\n",
    "plt.figure(figsize=(12, 8))\n",
    "\n",
    "# Creo un gráfico de barras usando Seaborn, con el número de clientes en el eje x y la provincia en el eje y\n",
    "# Utilizo la paleta de colores glasbey de Colorcet\n",
    "sns.barplot(x='Number of Clients', y='Province', data=province_counts, palette=cc.glasbey)\n",
    "\n",
    "# Establezco el título del gráfico\n",
    "plt.title('Distribución de Clientes por Provincia')\n",
    "\n",
    "# Establezco la etiqueta del eje x\n",
    "plt.xlabel('Número de Clientes')\n",
    "\n",
    "# Establezco la etiqueta del eje y\n",
    "plt.ylabel('Provincia')\n",
    "\n",
    "# Muestro el gráfico\n",
    "plt.show()"
   ]
  },
  {
   "cell_type": "markdown",
   "metadata": {},
   "source": [
    "_ _ _"
   ]
  },
  {
   "cell_type": "markdown",
   "metadata": {},
   "source": [
    "### 6. ¿Cómo se compara el salario promedio entre los diferentes niveles educativos de los clientes?"
   ]
  },
  {
   "cell_type": "code",
   "execution_count": 100,
   "metadata": {},
   "outputs": [
    {
     "data": {
      "image/png": "[encoded data removed]",
      "text/plain": [
       "<Figure size 864x576 with 1 Axes>"
      ]
     },
     "metadata": {},
     "output_type": "display_data"
    }
   ],
   "source": [
    "# Calculo los promedios y las desviaciones estándar de los salarios agrupados por nivel educativo\n",
    "education_salary_stats = clean_data.groupby('Education')['Salary'].agg(['mean', 'std']).reset_index()\n",
    "\n",
    "# Creo una figura de tamaño 12x8 para el gráfico\n",
    "plt.figure(figsize=(12, 8))\n",
    "\n",
    "# Creo un gráfico de barras usando Seaborn para mostrar los salarios promedio por nivel educativo\n",
    "# Utilizo la paleta de colores glasbey de Colorcet\n",
    "sns.barplot(x='Education', y='mean', data=education_salary_stats, palette=sns.color_palette(cc.glasbey, n_colors=len(education_salary_stats)), ci=None)\n",
    "\n",
    "# Añadir barras de error para mostrar la desviación estándar de los salarios\n",
    "plt.errorbar(x=education_salary_stats['Education'], y=education_salary_stats['mean'], yerr=education_salary_stats['std'], fmt='none', c='black', capsize=5)\n",
    "\n",
    "# Establezco el título del gráfico\n",
    "plt.title('Comparación del Salario Promedio por Nivel Educativo')\n",
    "\n",
    "# Establezco la etiqueta del eje x\n",
    "plt.xlabel('Nivel Educativo')\n",
    "\n",
    "# Establezco la etiqueta del eje y\n",
    "plt.ylabel('Salario Promedio ($)')\n",
    "\n",
    "# Rotar las etiquetas del eje x para mejor legibilidad\n",
    "plt.xticks(rotation=45)\n",
    "\n",
    "# Muestro el gráfico\n",
    "plt.show()\n"
   ]
  },
  {
   "cell_type": "markdown",
   "metadata": {},
   "source": [
    "_ _ _ "
   ]
  },
  {
   "cell_type": "markdown",
   "metadata": {},
   "source": [
    "### 7. ¿Cuál es la proporción de clientes con diferentes tipos de tarjetas de fidelidad?"
   ]
  },
  {
   "cell_type": "code",
   "execution_count": 101,
   "metadata": {},
   "outputs": [
    {
     "data": {
      "image/png": "[encoded data removed]",
      "text/plain": [
       "<Figure size 576x576 with 1 Axes>"
      ]
     },
     "metadata": {},
     "output_type": "display_data"
    }
   ],
   "source": [
    "# Calculo la cantidad de cada tipo de tarjeta de fidelidad\n",
    "loyalty_counts = clean_data['Loyalty Card'].value_counts()\n",
    "\n",
    "# Creo una figura de tamaño 8x8 para el gráfico\n",
    "plt.figure(figsize=(8, 8))\n",
    "\n",
    "# Creo un gráfico de pastel para mostrar la proporción de tipos de tarjeta de fidelidad\n",
    "# Utilizo la paleta de colores glasbey de Colorcet\n",
    "plt.pie(loyalty_counts, labels=loyalty_counts.index, autopct='%1.1f%%', colors=sns.color_palette(cc.glasbey, n_colors=len(loyalty_counts)))\n",
    "\n",
    "# Establezco el título del gráfico\n",
    "plt.title('Proporción de Tipos de Tarjeta de Fidelidad')\n",
    "\n",
    "# Muestro el gráfico\n",
    "plt.show()"
   ]
  },
  {
   "cell_type": "markdown",
   "metadata": {},
   "source": [
    "_ _ _ "
   ]
  },
  {
   "cell_type": "markdown",
   "metadata": {},
   "source": [
    "### 8. ¿Cómo se distribuyen los clientes según su estado civil y género?"
   ]
  },
  {
   "cell_type": "code",
   "execution_count": 102,
   "metadata": {},
   "outputs": [
    {
     "data": {
      "image/png": "[encoded data removed]",
      "text/plain": [
       "<Figure size 720x504 with 2 Axes>"
      ]
     },
     "metadata": {},
     "output_type": "display_data"
    }
   ],
   "source": [
    "# Crear una tabla pivot para contar el número de clientes por estado civil y género\n",
    "pivot_table = clean_data.pivot_table(index='Marital Status', columns='Gender', values='Loyalty Number', aggfunc='count')\n",
    "\n",
    "# Configurar el tamaño de la figura para el heatmap\n",
    "plt.figure(figsize=(10, 7))\n",
    "\n",
    "# Crear el heatmap usando Seaborn, con anotaciones y un mapa de colores de Colorcet\n",
    "sns.heatmap(pivot_table, annot=True, fmt='d', cmap=sns.color_palette(cc.diverging_bwr_40_95_c42, as_cmap=True))\n",
    "\n",
    "# Establecer el título del gráfico\n",
    "plt.title('Distribución de Clientes por Estado Civil y Género')\n",
    "\n",
    "# Mostrar el gráfico\n",
    "plt.show()\n"
   ]
  },
  {
   "cell_type": "code",
   "execution_count": 103,
   "metadata": {},
   "outputs": [
    {
     "data": {
      "image/png": "[encoded data removed]",
      "text/plain": [
       "<Figure size 720x504 with 1 Axes>"
      ]
     },
     "metadata": {},
     "output_type": "display_data"
    }
   ],
   "source": [
    "# Crear el count plot usando Seaborn\n",
    "plt.figure(figsize=(10, 7))\n",
    "sns.countplot(data=clean_data, x='Marital Status', hue='Gender')\n",
    "\n",
    "# Establecer el título del gráfico\n",
    "plt.title('Distribución de Clientes por Estado Civil y Género')\n",
    "\n",
    "# Mostrar el gráfico\n",
    "plt.show()"
   ]
  },
  {
   "cell_type": "markdown",
   "metadata": {},
   "source": [
    "_ _ _ "
   ]
  },
  {
   "cell_type": "markdown",
   "metadata": {},
   "source": [
    "⬛⬛⬛⬛⬛⬛⬛⬛⬛⬛⬛⬛⬛⬛⬛⬛⬛⬛⬛⬛⬛⬛⬛⬛⬛⬛⬛⬛⬛⬛⬛⬛⬛⬛⬛⬛⬛⬛⬛⬛⬛⬛⬛"
   ]
  },
  {
   "cell_type": "markdown",
   "metadata": {},
   "source": [
    "## Evaluación Reservas Vuelos vs Nivel Educativo ✈➰👩‍🏫"
   ]
  },
  {
   "cell_type": "markdown",
   "metadata": {},
   "source": [
    "⬛⬛⬛⬛⬛⬛⬛⬛⬛⬛⬛⬛⬛⬛⬛⬛⬛⬛⬛⬛⬛⬛⬛⬛⬛⬛⬛⬛⬛⬛⬛⬛⬛⬛⬛⬛⬛⬛⬛⬛⬛⬛⬛"
   ]
  },
  {
   "cell_type": "code",
   "execution_count": 104,
   "metadata": {},
   "outputs": [],
   "source": [
    "# Importo scipy.stats para realizar análisis estadísticos\n",
    "from scipy import stats\n",
    "\n",
    "# Importo la función f_oneway de scipy.stats para realizar el test ANOVA\n",
    "from scipy.stats import f_oneway"
   ]
  },
  {
   "cell_type": "markdown",
   "metadata": {},
   "source": [
    "### Paso 9: Preparación de los Datos"
   ]
  },
  {
   "cell_type": "markdown",
   "metadata": {},
   "source": [
    "\n",
    "- Primero, vamos a filtrar el conjunto de datos para incluir únicamente las columnas relevantes: 'Flights Booked' y 'Education'."
   ]
  },
  {
   "cell_type": "code",
   "execution_count": 105,
   "metadata": {},
   "outputs": [
    {
     "data": {
      "text/html": [
       "<div>\n",
       "<style scoped>\n",
       "    .dataframe tbody tr th:only-of-type {\n",
       "        vertical-align: middle;\n",
       "    }\n",
       "\n",
       "    .dataframe tbody tr th {\n",
       "        vertical-align: top;\n",
       "    }\n",
       "\n",
       "    .dataframe thead th {\n",
       "        text-align: right;\n",
       "    }\n",
       "</style>\n",
       "<table border=\"1\" class=\"dataframe\">\n",
       "  <thead>\n",
       "    <tr style=\"text-align: right;\">\n",
       "      <th></th>\n",
       "      <th>Flights Booked</th>\n",
       "      <th>Education</th>\n",
       "    </tr>\n",
       "  </thead>\n",
       "  <tbody>\n",
       "    <tr>\n",
       "      <th>0</th>\n",
       "      <td>3</td>\n",
       "      <td>Bachelor</td>\n",
       "    </tr>\n",
       "    <tr>\n",
       "      <th>1</th>\n",
       "      <td>2</td>\n",
       "      <td>Bachelor</td>\n",
       "    </tr>\n",
       "    <tr>\n",
       "      <th>2</th>\n",
       "      <td>6</td>\n",
       "      <td>Bachelor</td>\n",
       "    </tr>\n",
       "    <tr>\n",
       "      <th>3</th>\n",
       "      <td>4</td>\n",
       "      <td>Bachelor</td>\n",
       "    </tr>\n",
       "    <tr>\n",
       "      <th>4</th>\n",
       "      <td>0</td>\n",
       "      <td>Bachelor</td>\n",
       "    </tr>\n",
       "  </tbody>\n",
       "</table>\n",
       "</div>"
      ],
      "text/plain": [
       "   Flights Booked Education\n",
       "0               3  Bachelor\n",
       "1               2  Bachelor\n",
       "2               6  Bachelor\n",
       "3               4  Bachelor\n",
       "4               0  Bachelor"
      ]
     },
     "execution_count": 105,
     "metadata": {},
     "output_type": "execute_result"
    }
   ],
   "source": [
    "# Filtrar las columnas 'Flights Booked' y 'Education'\n",
    "filtered_data = clean_data[['Flights Booked', 'Education']]\n",
    "\n",
    "# Muestro las primeras filas del dataframe filtrado para asegurarme de que se ha realizado correctamente\n",
    "filtered_data.head()"
   ]
  },
  {
   "cell_type": "markdown",
   "metadata": {},
   "source": [
    "_ _ _ "
   ]
  },
  {
   "cell_type": "markdown",
   "metadata": {},
   "source": [
    "### Paso 10: Análisis Descriptivo\n",
    "\n",
    "Ahora, vamos a agrupar los datos por nivel educativo y calcular las estadísticas descriptivas básicas del número de vuelos reservados para cada grupo."
   ]
  },
  {
   "cell_type": "code",
   "execution_count": 106,
   "metadata": {},
   "outputs": [
    {
     "data": {
      "text/html": [
       "<div>\n",
       "<style scoped>\n",
       "    .dataframe tbody tr th:only-of-type {\n",
       "        vertical-align: middle;\n",
       "    }\n",
       "\n",
       "    .dataframe tbody tr th {\n",
       "        vertical-align: top;\n",
       "    }\n",
       "\n",
       "    .dataframe thead th {\n",
       "        text-align: right;\n",
       "    }\n",
       "</style>\n",
       "<table border=\"1\" class=\"dataframe\">\n",
       "  <thead>\n",
       "    <tr style=\"text-align: right;\">\n",
       "      <th></th>\n",
       "      <th>count</th>\n",
       "      <th>mean</th>\n",
       "      <th>std</th>\n",
       "      <th>min</th>\n",
       "      <th>25%</th>\n",
       "      <th>50%</th>\n",
       "      <th>75%</th>\n",
       "      <th>max</th>\n",
       "    </tr>\n",
       "    <tr>\n",
       "      <th>Education</th>\n",
       "      <th></th>\n",
       "      <th></th>\n",
       "      <th></th>\n",
       "      <th></th>\n",
       "      <th></th>\n",
       "      <th></th>\n",
       "      <th></th>\n",
       "      <th></th>\n",
       "    </tr>\n",
       "  </thead>\n",
       "  <tbody>\n",
       "    <tr>\n",
       "      <th>Bachelor</th>\n",
       "      <td>252567.0</td>\n",
       "      <td>4.110288</td>\n",
       "      <td>5.221671</td>\n",
       "      <td>0.0</td>\n",
       "      <td>0.0</td>\n",
       "      <td>1.0</td>\n",
       "      <td>8.0</td>\n",
       "      <td>21.0</td>\n",
       "    </tr>\n",
       "    <tr>\n",
       "      <th>College</th>\n",
       "      <td>102260.0</td>\n",
       "      <td>4.169744</td>\n",
       "      <td>5.246040</td>\n",
       "      <td>0.0</td>\n",
       "      <td>0.0</td>\n",
       "      <td>1.0</td>\n",
       "      <td>8.0</td>\n",
       "      <td>21.0</td>\n",
       "    </tr>\n",
       "    <tr>\n",
       "      <th>Doctor</th>\n",
       "      <td>17731.0</td>\n",
       "      <td>4.175512</td>\n",
       "      <td>5.256971</td>\n",
       "      <td>0.0</td>\n",
       "      <td>0.0</td>\n",
       "      <td>1.0</td>\n",
       "      <td>8.0</td>\n",
       "      <td>21.0</td>\n",
       "    </tr>\n",
       "    <tr>\n",
       "      <th>High School or Below</th>\n",
       "      <td>18915.0</td>\n",
       "      <td>4.176209</td>\n",
       "      <td>5.239267</td>\n",
       "      <td>0.0</td>\n",
       "      <td>0.0</td>\n",
       "      <td>1.0</td>\n",
       "      <td>8.0</td>\n",
       "      <td>21.0</td>\n",
       "    </tr>\n",
       "    <tr>\n",
       "      <th>Master</th>\n",
       "      <td>12287.0</td>\n",
       "      <td>4.200700</td>\n",
       "      <td>5.213956</td>\n",
       "      <td>0.0</td>\n",
       "      <td>0.0</td>\n",
       "      <td>1.0</td>\n",
       "      <td>8.0</td>\n",
       "      <td>21.0</td>\n",
       "    </tr>\n",
       "  </tbody>\n",
       "</table>\n",
       "</div>"
      ],
      "text/plain": [
       "                         count      mean       std  min  25%  50%  75%   max\n",
       "Education                                                                   \n",
       "Bachelor              252567.0  4.110288  5.221671  0.0  0.0  1.0  8.0  21.0\n",
       "College               102260.0  4.169744  5.246040  0.0  0.0  1.0  8.0  21.0\n",
       "Doctor                 17731.0  4.175512  5.256971  0.0  0.0  1.0  8.0  21.0\n",
       "High School or Below   18915.0  4.176209  5.239267  0.0  0.0  1.0  8.0  21.0\n",
       "Master                 12287.0  4.200700  5.213956  0.0  0.0  1.0  8.0  21.0"
      ]
     },
     "execution_count": 106,
     "metadata": {},
     "output_type": "execute_result"
    }
   ],
   "source": [
    "# Agrupo los datos por nivel educativo\n",
    "grouped_data = filtered_data.groupby('Education')\n",
    "\n",
    "# Calculo las estadísticas descriptivas para cada grupo\n",
    "descriptive_stats = grouped_data['Flights Booked'].describe()\n",
    "\n",
    "# Muestro las estadísticas descriptivas\n",
    "descriptive_stats"
   ]
  },
  {
   "cell_type": "markdown",
   "metadata": {},
   "source": [
    "_ _ _"
   ]
  },
  {
   "cell_type": "markdown",
   "metadata": {},
   "source": [
    "### Paso 11: Prueba Estadística\n",
    "\n",
    "Finalmente, voy a realizar una prueba de A/B testing para determinar si existe una diferencia significativa en el número de vuelos reservados entre los diferentes niveles educativos."
   ]
  },
  {
   "cell_type": "markdown",
   "metadata": {},
   "source": [
    "He elegido el análisis de varianza (ANOVA) porque en el notebook modulo-3-leccion-10-a-b-testing-otros-test.ipynb se menciona específicamente el uso de ANOVA para comparar las medias de tres o más grupos independientes. En este caso, estamos interesados en comparar el número de vuelos reservados entre diferentes niveles educativos, lo que implica comparar más de dos grupos."
   ]
  },
  {
   "cell_type": "code",
   "execution_count": 107,
   "metadata": {},
   "outputs": [
    {
     "data": {
      "text/plain": [
       "F_onewayResult(statistic=3.578957738498352, pvalue=0.00635298173601954)"
      ]
     },
     "execution_count": 107,
     "metadata": {},
     "output_type": "execute_result"
    }
   ],
   "source": [
    "# Obtengo los valores únicos de los niveles educativos\n",
    "education_levels = filtered_data['Education'].unique()\n",
    "\n",
    "# Creo una lista para almacenar los datos de cada grupo\n",
    "groups = [filtered_data[filtered_data['Education'] == level]['Flights Booked'].values for level in education_levels]\n",
    "\n",
    "# Realizo la prueba ANOVA\n",
    "anova_result = f_oneway(*groups)\n",
    "\n",
    "# Muestro los resultados de la prueba ANOVA\n",
    "anova_result\n"
   ]
  },
  {
   "cell_type": "markdown",
   "metadata": {},
   "source": [
    "_ _ _"
   ]
  },
  {
   "cell_type": "markdown",
   "metadata": {},
   "source": [
    "⬛⬛⬛⬛⬛⬛⬛⬛⬛⬛⬛⬛⬛⬛⬛⬛⬛⬛⬛⬛⬛⬛⬛⬛⬛⬛⬛⬛⬛⬛⬛⬛⬛⬛⬛⬛⬛⬛⬛⬛⬛⬛⬛"
   ]
  },
  {
   "cell_type": "markdown",
   "metadata": {},
   "source": [
    "## Resultados de la Prueba ANOVA ▶"
   ]
  },
  {
   "cell_type": "markdown",
   "metadata": {},
   "source": [
    "⬛⬛⬛⬛⬛⬛⬛⬛⬛⬛⬛⬛⬛⬛⬛⬛⬛⬛⬛⬛⬛⬛⬛⬛⬛⬛⬛⬛⬛⬛⬛⬛⬛⬛⬛⬛⬛⬛⬛⬛⬛⬛⬛"
   ]
  },
  {
   "cell_type": "markdown",
   "metadata": {},
   "source": [
    "```python\n",
    "F_onewayResult(statistic=3.578957738498352, pvalue=0.00635298173601954)\n",
    "```\n",
    "\n",
    "Estos resultados incluyen dos valores importantes: el estadístico F y el valor p.\n",
    "\n",
    "1. **Estadístico F (statistic=3.578957738498352):**\n",
    "   - El estadístico F mide la relación entre la variabilidad entre los grupos (nivel educativo en este caso) y la variabilidad dentro de los grupos.\n",
    "   - Un valor de F más alto indica que hay una mayor diferencia entre los grupos en comparación con la variabilidad dentro de los grupos.\n",
    "\n",
    "2. **Valor p (pvalue=0.00635298173601954):**\n",
    "   - El valor p nos indica la probabilidad de observar los resultados obtenidos, o más extremos, si la hipótesis nula (que no hay diferencias entre los grupos) fuera verdadera.\n",
    "   - Un valor p bajo (generalmente menor a 0.05) sugiere que hay una diferencia significativa entre los grupos.\n",
    "\n",
    "### Interpretación:\n",
    "\n",
    "- **Estadístico F:** El valor de 3.578957738498352 indica que hay alguna variabilidad entre los grupos que es mayor que la variabilidad dentro de los grupos.\n",
    "  \n",
    "- **Valor p:** El valor p de 0.00635298173601954 es menor que el nivel de significancia comúnmente usado de 0.05. Esto sugiere que hay evidencia suficiente para rechazar la hipótesis nula de que no hay diferencias en el número de vuelos reservados entre los diferentes niveles educativos.\n",
    "\n",
    "### Conclusión:\n",
    "\n",
    "Existe una diferencia significativa en el número de vuelos reservados según el nivel educativo de los clientes. Esto significa que el nivel educativo tiene un impacto significativo en la cantidad de vuelos que los clientes reservan.\n",
    "\n",
    "Si necesitas más análisis o visualizaciones adicionales para estos resultados, estaré encantado de ayudarte."
   ]
  },
  {
   "cell_type": "markdown",
   "metadata": {},
   "source": [
    "_ _ _"
   ]
  },
  {
   "cell_type": "markdown",
   "metadata": {},
   "source": [
    "⬛⬛⬛⬛⬛⬛⬛⬛⬛⬛⬛⬛⬛⬛⬛⬛⬛⬛⬛⬛⬛⬛⬛⬛⬛⬛⬛⬛⬛⬛⬛⬛⬛⬛⬛⬛⬛⬛⬛⬛⬛⬛⬛"
   ]
  },
  {
   "cell_type": "markdown",
   "metadata": {},
   "source": [
    "# 🐱‍🚀¡¡¡ GRACIAS POR VISITAR MI CÓDIGO !!!🐱‍🚀"
   ]
  },
  {
   "cell_type": "markdown",
   "metadata": {},
   "source": [
    "⬛⬛⬛⬛⬛⬛⬛⬛⬛⬛⬛⬛⬛⬛⬛⬛⬛⬛⬛⬛⬛⬛⬛⬛⬛⬛⬛⬛⬛⬛⬛⬛⬛⬛⬛⬛⬛⬛⬛⬛⬛⬛⬛"
   ]
  }
 ],
 "metadata": {
  "kernelspec": {
   "display_name": "base",
   "language": "python",
   "name": "python3"
  },
  "language_info": {
   "codemirror_mode": {
    "name": "ipython",
    "version": 3
   },
   "file_extension": ".py",
   "mimetype": "text/x-python",
   "name": "python",
   "nbconvert_exporter": "python",
   "pygments_lexer": "ipython3",
   "version": "3.9.12"
  }
 },
 "nbformat": 4,
 "nbformat_minor": 2
}
